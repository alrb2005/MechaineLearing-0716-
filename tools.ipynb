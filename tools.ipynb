{
  "nbformat": 4,
  "nbformat_minor": 0,
  "metadata": {
    "colab": {
      "name": "tools.ipynb",
      "provenance": [],
      "toc_visible": true,
      "authorship_tag": "ABX9TyPrwklozHpNkg+xfPaK1p4o",
      "include_colab_link": true
    },
    "kernelspec": {
      "name": "python3",
      "display_name": "Python 3"
    }
  },
  "cells": [
    {
      "cell_type": "markdown",
      "metadata": {
        "id": "view-in-github",
        "colab_type": "text"
      },
      "source": [
        "<a href=\"https://colab.research.google.com/github/alrb2005/MechaineLearing-0716-/blob/master/tools.ipynb\" target=\"_parent\"><img src=\"https://colab.research.google.com/assets/colab-badge.svg\" alt=\"Open In Colab\"/></a>"
      ]
    },
    {
      "cell_type": "code",
      "metadata": {
        "id": "tE-ukFYyZnlf",
        "colab_type": "code",
        "colab": {}
      },
      "source": [
        "! pip install opencc-python-reimplemented"
      ],
      "execution_count": null,
      "outputs": []
    },
    {
      "cell_type": "code",
      "metadata": {
        "id": "lFFXnHoAY1ik",
        "colab_type": "code",
        "colab": {
          "base_uri": "https://localhost:8080/",
          "height": 187
        },
        "outputId": "f3573b1a-e7eb-4de7-8a53-3eeb4e401851"
      },
      "source": [
        "from opencc import OpenCC\n",
        "cc = OpenCC('s2t')  # convert from Simplified Chinese to Traditional Chinese\n",
        "# can also set conversion by calling set_conversion\n",
        "# cc.set_conversion('s2tw')\n",
        "to_convert = '开放中文转换'\n",
        "converted = cc.convert(to_convert)"
      ],
      "execution_count": 1,
      "outputs": [
        {
          "output_type": "stream",
          "text": [
            "Collecting opencc-python-reimplemented\n",
            "\u001b[?25l  Downloading https://files.pythonhosted.org/packages/04/aa/02c5ffc87e2bf1da1f476d35aa4de69cad2cfc3140e37114755c454d1231/opencc-python-reimplemented-0.1.6.tar.gz (484kB)\n",
            "\r\u001b[K     |▊                               | 10kB 18.0MB/s eta 0:00:01\r\u001b[K     |█▍                              | 20kB 3.4MB/s eta 0:00:01\r\u001b[K     |██                              | 30kB 4.4MB/s eta 0:00:01\r\u001b[K     |██▊                             | 40kB 4.8MB/s eta 0:00:01\r\u001b[K     |███▍                            | 51kB 3.9MB/s eta 0:00:01\r\u001b[K     |████                            | 61kB 4.3MB/s eta 0:00:01\r\u001b[K     |████▊                           | 71kB 4.5MB/s eta 0:00:01\r\u001b[K     |█████▍                          | 81kB 5.0MB/s eta 0:00:01\r\u001b[K     |██████                          | 92kB 5.4MB/s eta 0:00:01\r\u001b[K     |██████▊                         | 102kB 5.2MB/s eta 0:00:01\r\u001b[K     |███████▍                        | 112kB 5.2MB/s eta 0:00:01\r\u001b[K     |████████▏                       | 122kB 5.2MB/s eta 0:00:01\r\u001b[K     |████████▉                       | 133kB 5.2MB/s eta 0:00:01\r\u001b[K     |█████████▌                      | 143kB 5.2MB/s eta 0:00:01\r\u001b[K     |██████████▏                     | 153kB 5.2MB/s eta 0:00:01\r\u001b[K     |██████████▉                     | 163kB 5.2MB/s eta 0:00:01\r\u001b[K     |███████████▌                    | 174kB 5.2MB/s eta 0:00:01\r\u001b[K     |████████████▏                   | 184kB 5.2MB/s eta 0:00:01\r\u001b[K     |████████████▉                   | 194kB 5.2MB/s eta 0:00:01\r\u001b[K     |█████████████▌                  | 204kB 5.2MB/s eta 0:00:01\r\u001b[K     |██████████████▏                 | 215kB 5.2MB/s eta 0:00:01\r\u001b[K     |██████████████▉                 | 225kB 5.2MB/s eta 0:00:01\r\u001b[K     |███████████████▌                | 235kB 5.2MB/s eta 0:00:01\r\u001b[K     |████████████████▎               | 245kB 5.2MB/s eta 0:00:01\r\u001b[K     |█████████████████               | 256kB 5.2MB/s eta 0:00:01\r\u001b[K     |█████████████████▋              | 266kB 5.2MB/s eta 0:00:01\r\u001b[K     |██████████████████▎             | 276kB 5.2MB/s eta 0:00:01\r\u001b[K     |███████████████████             | 286kB 5.2MB/s eta 0:00:01\r\u001b[K     |███████████████████▋            | 296kB 5.2MB/s eta 0:00:01\r\u001b[K     |████████████████████▎           | 307kB 5.2MB/s eta 0:00:01\r\u001b[K     |█████████████████████           | 317kB 5.2MB/s eta 0:00:01\r\u001b[K     |█████████████████████▋          | 327kB 5.2MB/s eta 0:00:01\r\u001b[K     |██████████████████████▎         | 337kB 5.2MB/s eta 0:00:01\r\u001b[K     |███████████████████████         | 348kB 5.2MB/s eta 0:00:01\r\u001b[K     |███████████████████████▊        | 358kB 5.2MB/s eta 0:00:01\r\u001b[K     |████████████████████████▍       | 368kB 5.2MB/s eta 0:00:01\r\u001b[K     |█████████████████████████       | 378kB 5.2MB/s eta 0:00:01\r\u001b[K     |█████████████████████████▊      | 389kB 5.2MB/s eta 0:00:01\r\u001b[K     |██████████████████████████▍     | 399kB 5.2MB/s eta 0:00:01\r\u001b[K     |███████████████████████████     | 409kB 5.2MB/s eta 0:00:01\r\u001b[K     |███████████████████████████▊    | 419kB 5.2MB/s eta 0:00:01\r\u001b[K     |████████████████████████████▍   | 430kB 5.2MB/s eta 0:00:01\r\u001b[K     |█████████████████████████████   | 440kB 5.2MB/s eta 0:00:01\r\u001b[K     |█████████████████████████████▊  | 450kB 5.2MB/s eta 0:00:01\r\u001b[K     |██████████████████████████████▍ | 460kB 5.2MB/s eta 0:00:01\r\u001b[K     |███████████████████████████████ | 471kB 5.2MB/s eta 0:00:01\r\u001b[K     |███████████████████████████████▉| 481kB 5.2MB/s eta 0:00:01\r\u001b[K     |████████████████████████████████| 491kB 5.2MB/s \n",
            "\u001b[?25hBuilding wheels for collected packages: opencc-python-reimplemented\n",
            "  Building wheel for opencc-python-reimplemented (setup.py) ... \u001b[?25l\u001b[?25hdone\n",
            "  Created wheel for opencc-python-reimplemented: filename=opencc_python_reimplemented-0.1.6-py2.py3-none-any.whl size=486136 sha256=0a21808020fd6d9d442921182543f6f120e430695152ff53bb026eb1a12a3789\n",
            "  Stored in directory: /root/.cache/pip/wheels/54/8a/0f/405db0ba3f02d9af8211422d3ae94c47b3296256f168ac1e68\n",
            "Successfully built opencc-python-reimplemented\n",
            "Installing collected packages: opencc-python-reimplemented\n",
            "Successfully installed opencc-python-reimplemented-0.1.6\n"
          ],
          "name": "stdout"
        }
      ]
    },
    {
      "cell_type": "code",
      "metadata": {
        "id": "LbwvqNVgbzNy",
        "colab_type": "code",
        "colab": {}
      },
      "source": [
        "news = '''台灣防疫成果受到世界矚目，牛津市伸出友誼之手。英國牛津市議員高達德（Stephen Goddard）提案要求牛津市議會研擬與台灣城市締結姊妹市，今天晚間以42票高票通過。\n",
        "\n",
        "自民黨籍議員高達德7月8日提案與台灣城市締結姊妹市，同黨議員韋德（Elizabeth Wade）連署支持，牛津市議會於英國當地時間20日晚間以視訊會議方式進行討論。\n",
        "\n",
        "高達德提案表示，牛津市目前在歐洲、中東與美洲有姊妹市，但在東亞地區尚無類似連結，英國也沒有城市與台灣城市締結姊妹市。\n",
        "\n",
        "提案列出台灣的成就，首先是建立「自由之家」所稱「充滿活力、具競爭性的民主制度，自2000年以來，歷經3次和平政黨輪替」，並為公民自由提供「強而有力」的保護。台灣也創造「經濟奇蹟」，從1950年代起，人均國內生產毛額（GDP）成長超過30倍，是同期成長最快速的全球5大經濟體之一。\n",
        "\n",
        "此外，台灣是亞洲首個同婚合法化的司法管轄地（jurisdiction），並創下領先全球的2019冠狀病毒疾病（COVID-19）防疫成果。\n",
        "\n",
        "提案指出，儘管台灣有多達2400萬人口，且與疫情爆發地大陸武漢市地緣接近，但截至提案時間為止，台灣僅有7例死亡病例。台灣並在4月對英國在內的歐洲國家捐贈700萬片口罩，協助抗疫。\n",
        "\n",
        "根據外交部，捐贈歐洲的700萬片口罩僅是第一批，台灣於5、6月加碼施行國際人道援助，光是英國就收到200萬片口罩。\n",
        "\n",
        "高達德在會議中發言表示，儘管台灣目前身處外交黑洞，官員甚至無法參與世界衛生大會（WHA），但台灣依舊繁盛，在這次疫情保持個位數死亡病例，台灣城市有許多地方值得牛津市借鏡。\n",
        "\n",
        "他表示，全世界許多城市都與台灣城市締結姊妹市，甚至上海也與台北市有10年的善意交流。英國在這方面有所欠缺，牛津市應該扮演引領角色。\n",
        "\n",
        "議員最後以42票同意、1票反對，2票棄權通過工黨籍市議員克拉克森（Mary Clarkson）修正版提案，牛津市與台灣將從民間開始友善交流，逐步尋找共同點，由牛津市議會進一步研擬是否與台灣適當城市締結姊妹市。\n",
        "\n",
        "不過提案也表示，姊妹市關係與英國官方承認中華人民共和國的立場無關。牛津市感謝中華人民共和國人民的友誼，感謝大陸人作為遊客、學生和居民對牛津市的貢獻。'''"
      ],
      "execution_count": 2,
      "outputs": []
    },
    {
      "cell_type": "code",
      "metadata": {
        "id": "WLXNOXioa360",
        "colab_type": "code",
        "colab": {
          "base_uri": "https://localhost:8080/",
          "height": 445
        },
        "outputId": "db67d715-9ed4-404b-aced-972461f58e7b"
      },
      "source": [
        "import jieba \n",
        "from urllib.request import urlretrieve\n",
        "# 偶爾: list(jieba.cut(news))\n",
        "url =\"https://github.com/fxsjy/jieba/raw/master/extra_dict/dict.txt.big\"\n",
        "urlretrieve(url, \"dict.txt.big\")\n",
        "jieba.set_dictionary(\"dict.txt.big\")\n",
        "# wait for fix jieba.set_dictionary (\"mydict.txt\")\n",
        "\" \".join(jieba.cut(news))"
      ],
      "execution_count": 5,
      "outputs": [
        {
          "output_type": "stream",
          "text": [
            "Building prefix dict from /content/mydict.txt ...\n"
          ],
          "name": "stderr"
        },
        {
          "output_type": "error",
          "ename": "ValueError",
          "evalue": "ignored",
          "traceback": [
            "\u001b[0;31m---------------------------------------------------------------------------\u001b[0m",
            "\u001b[0;31mValueError\u001b[0m                                Traceback (most recent call last)",
            "\u001b[0;32m/usr/local/lib/python3.6/dist-packages/jieba/__init__.py\u001b[0m in \u001b[0;36mgen_pfdict\u001b[0;34m(f)\u001b[0m\n\u001b[1;32m     78\u001b[0m                 \u001b[0mline\u001b[0m \u001b[0;34m=\u001b[0m \u001b[0mline\u001b[0m\u001b[0;34m.\u001b[0m\u001b[0mstrip\u001b[0m\u001b[0;34m(\u001b[0m\u001b[0;34m)\u001b[0m\u001b[0;34m.\u001b[0m\u001b[0mdecode\u001b[0m\u001b[0;34m(\u001b[0m\u001b[0;34m'utf-8'\u001b[0m\u001b[0;34m)\u001b[0m\u001b[0;34m\u001b[0m\u001b[0;34m\u001b[0m\u001b[0m\n\u001b[0;32m---> 79\u001b[0;31m                 \u001b[0mword\u001b[0m\u001b[0;34m,\u001b[0m \u001b[0mfreq\u001b[0m \u001b[0;34m=\u001b[0m \u001b[0mline\u001b[0m\u001b[0;34m.\u001b[0m\u001b[0msplit\u001b[0m\u001b[0;34m(\u001b[0m\u001b[0;34m' '\u001b[0m\u001b[0;34m)\u001b[0m\u001b[0;34m[\u001b[0m\u001b[0;34m:\u001b[0m\u001b[0;36m2\u001b[0m\u001b[0;34m]\u001b[0m\u001b[0;34m\u001b[0m\u001b[0;34m\u001b[0m\u001b[0m\n\u001b[0m\u001b[1;32m     80\u001b[0m                 \u001b[0mfreq\u001b[0m \u001b[0;34m=\u001b[0m \u001b[0mint\u001b[0m\u001b[0;34m(\u001b[0m\u001b[0mfreq\u001b[0m\u001b[0;34m)\u001b[0m\u001b[0;34m\u001b[0m\u001b[0;34m\u001b[0m\u001b[0m\n",
            "\u001b[0;31mValueError\u001b[0m: not enough values to unpack (expected 2, got 1)",
            "\nDuring handling of the above exception, another exception occurred:\n",
            "\u001b[0;31mValueError\u001b[0m                                Traceback (most recent call last)",
            "\u001b[0;32m<ipython-input-5-4c2076f808ed>\u001b[0m in \u001b[0;36m<module>\u001b[0;34m()\u001b[0m\n\u001b[1;32m      6\u001b[0m \u001b[0mjieba\u001b[0m\u001b[0;34m.\u001b[0m\u001b[0mset_dictionary\u001b[0m\u001b[0;34m(\u001b[0m\u001b[0;34m\"dict.txt.big\"\u001b[0m\u001b[0;34m)\u001b[0m\u001b[0;34m\u001b[0m\u001b[0;34m\u001b[0m\u001b[0m\n\u001b[1;32m      7\u001b[0m \u001b[0mjieba\u001b[0m\u001b[0;34m.\u001b[0m\u001b[0mset_dictionary\u001b[0m \u001b[0;34m(\u001b[0m\u001b[0;34m\"mydict.txt\"\u001b[0m\u001b[0;34m)\u001b[0m\u001b[0;34m\u001b[0m\u001b[0;34m\u001b[0m\u001b[0m\n\u001b[0;32m----> 8\u001b[0;31m \u001b[0;34m\" \"\u001b[0m\u001b[0;34m.\u001b[0m\u001b[0mjoin\u001b[0m\u001b[0;34m(\u001b[0m\u001b[0mjieba\u001b[0m\u001b[0;34m.\u001b[0m\u001b[0mcut\u001b[0m\u001b[0;34m(\u001b[0m\u001b[0mnews\u001b[0m\u001b[0;34m)\u001b[0m\u001b[0;34m)\u001b[0m\u001b[0;34m\u001b[0m\u001b[0;34m\u001b[0m\u001b[0m\n\u001b[0m",
            "\u001b[0;32m/usr/local/lib/python3.6/dist-packages/jieba/__init__.py\u001b[0m in \u001b[0;36mcut\u001b[0;34m(self, sentence, cut_all, HMM, use_paddle)\u001b[0m\n\u001b[1;32m    323\u001b[0m                 \u001b[0;32mcontinue\u001b[0m\u001b[0;34m\u001b[0m\u001b[0;34m\u001b[0m\u001b[0m\n\u001b[1;32m    324\u001b[0m             \u001b[0;32mif\u001b[0m \u001b[0mre_han\u001b[0m\u001b[0;34m.\u001b[0m\u001b[0mmatch\u001b[0m\u001b[0;34m(\u001b[0m\u001b[0mblk\u001b[0m\u001b[0;34m)\u001b[0m\u001b[0;34m:\u001b[0m\u001b[0;34m\u001b[0m\u001b[0;34m\u001b[0m\u001b[0m\n\u001b[0;32m--> 325\u001b[0;31m                 \u001b[0;32mfor\u001b[0m \u001b[0mword\u001b[0m \u001b[0;32min\u001b[0m \u001b[0mcut_block\u001b[0m\u001b[0;34m(\u001b[0m\u001b[0mblk\u001b[0m\u001b[0;34m)\u001b[0m\u001b[0;34m:\u001b[0m\u001b[0;34m\u001b[0m\u001b[0;34m\u001b[0m\u001b[0m\n\u001b[0m\u001b[1;32m    326\u001b[0m                     \u001b[0;32myield\u001b[0m \u001b[0mword\u001b[0m\u001b[0;34m\u001b[0m\u001b[0;34m\u001b[0m\u001b[0m\n\u001b[1;32m    327\u001b[0m             \u001b[0;32melse\u001b[0m\u001b[0;34m:\u001b[0m\u001b[0;34m\u001b[0m\u001b[0;34m\u001b[0m\u001b[0m\n",
            "\u001b[0;32m/usr/local/lib/python3.6/dist-packages/jieba/__init__.py\u001b[0m in \u001b[0;36m__cut_DAG\u001b[0;34m(self, sentence)\u001b[0m\n\u001b[1;32m    248\u001b[0m \u001b[0;34m\u001b[0m\u001b[0m\n\u001b[1;32m    249\u001b[0m     \u001b[0;32mdef\u001b[0m \u001b[0m__cut_DAG\u001b[0m\u001b[0;34m(\u001b[0m\u001b[0mself\u001b[0m\u001b[0;34m,\u001b[0m \u001b[0msentence\u001b[0m\u001b[0;34m)\u001b[0m\u001b[0;34m:\u001b[0m\u001b[0;34m\u001b[0m\u001b[0;34m\u001b[0m\u001b[0m\n\u001b[0;32m--> 250\u001b[0;31m         \u001b[0mDAG\u001b[0m \u001b[0;34m=\u001b[0m \u001b[0mself\u001b[0m\u001b[0;34m.\u001b[0m\u001b[0mget_DAG\u001b[0m\u001b[0;34m(\u001b[0m\u001b[0msentence\u001b[0m\u001b[0;34m)\u001b[0m\u001b[0;34m\u001b[0m\u001b[0;34m\u001b[0m\u001b[0m\n\u001b[0m\u001b[1;32m    251\u001b[0m         \u001b[0mroute\u001b[0m \u001b[0;34m=\u001b[0m \u001b[0;34m{\u001b[0m\u001b[0;34m}\u001b[0m\u001b[0;34m\u001b[0m\u001b[0;34m\u001b[0m\u001b[0m\n\u001b[1;32m    252\u001b[0m         \u001b[0mself\u001b[0m\u001b[0;34m.\u001b[0m\u001b[0mcalc\u001b[0m\u001b[0;34m(\u001b[0m\u001b[0msentence\u001b[0m\u001b[0;34m,\u001b[0m \u001b[0mDAG\u001b[0m\u001b[0;34m,\u001b[0m \u001b[0mroute\u001b[0m\u001b[0;34m)\u001b[0m\u001b[0;34m\u001b[0m\u001b[0;34m\u001b[0m\u001b[0m\n",
            "\u001b[0;32m/usr/local/lib/python3.6/dist-packages/jieba/__init__.py\u001b[0m in \u001b[0;36mget_DAG\u001b[0;34m(self, sentence)\u001b[0m\n\u001b[1;32m    179\u001b[0m \u001b[0;34m\u001b[0m\u001b[0m\n\u001b[1;32m    180\u001b[0m     \u001b[0;32mdef\u001b[0m \u001b[0mget_DAG\u001b[0m\u001b[0;34m(\u001b[0m\u001b[0mself\u001b[0m\u001b[0;34m,\u001b[0m \u001b[0msentence\u001b[0m\u001b[0;34m)\u001b[0m\u001b[0;34m:\u001b[0m\u001b[0;34m\u001b[0m\u001b[0;34m\u001b[0m\u001b[0m\n\u001b[0;32m--> 181\u001b[0;31m         \u001b[0mself\u001b[0m\u001b[0;34m.\u001b[0m\u001b[0mcheck_initialized\u001b[0m\u001b[0;34m(\u001b[0m\u001b[0;34m)\u001b[0m\u001b[0;34m\u001b[0m\u001b[0;34m\u001b[0m\u001b[0m\n\u001b[0m\u001b[1;32m    182\u001b[0m         \u001b[0mDAG\u001b[0m \u001b[0;34m=\u001b[0m \u001b[0;34m{\u001b[0m\u001b[0;34m}\u001b[0m\u001b[0;34m\u001b[0m\u001b[0;34m\u001b[0m\u001b[0m\n\u001b[1;32m    183\u001b[0m         \u001b[0mN\u001b[0m \u001b[0;34m=\u001b[0m \u001b[0mlen\u001b[0m\u001b[0;34m(\u001b[0m\u001b[0msentence\u001b[0m\u001b[0;34m)\u001b[0m\u001b[0;34m\u001b[0m\u001b[0;34m\u001b[0m\u001b[0m\n",
            "\u001b[0;32m/usr/local/lib/python3.6/dist-packages/jieba/__init__.py\u001b[0m in \u001b[0;36mcheck_initialized\u001b[0;34m(self)\u001b[0m\n\u001b[1;32m    168\u001b[0m     \u001b[0;32mdef\u001b[0m \u001b[0mcheck_initialized\u001b[0m\u001b[0;34m(\u001b[0m\u001b[0mself\u001b[0m\u001b[0;34m)\u001b[0m\u001b[0;34m:\u001b[0m\u001b[0;34m\u001b[0m\u001b[0;34m\u001b[0m\u001b[0m\n\u001b[1;32m    169\u001b[0m         \u001b[0;32mif\u001b[0m \u001b[0;32mnot\u001b[0m \u001b[0mself\u001b[0m\u001b[0;34m.\u001b[0m\u001b[0minitialized\u001b[0m\u001b[0;34m:\u001b[0m\u001b[0;34m\u001b[0m\u001b[0;34m\u001b[0m\u001b[0m\n\u001b[0;32m--> 170\u001b[0;31m             \u001b[0mself\u001b[0m\u001b[0;34m.\u001b[0m\u001b[0minitialize\u001b[0m\u001b[0;34m(\u001b[0m\u001b[0;34m)\u001b[0m\u001b[0;34m\u001b[0m\u001b[0;34m\u001b[0m\u001b[0m\n\u001b[0m\u001b[1;32m    171\u001b[0m \u001b[0;34m\u001b[0m\u001b[0m\n\u001b[1;32m    172\u001b[0m     \u001b[0;32mdef\u001b[0m \u001b[0mcalc\u001b[0m\u001b[0;34m(\u001b[0m\u001b[0mself\u001b[0m\u001b[0;34m,\u001b[0m \u001b[0msentence\u001b[0m\u001b[0;34m,\u001b[0m \u001b[0mDAG\u001b[0m\u001b[0;34m,\u001b[0m \u001b[0mroute\u001b[0m\u001b[0;34m)\u001b[0m\u001b[0;34m:\u001b[0m\u001b[0;34m\u001b[0m\u001b[0;34m\u001b[0m\u001b[0m\n",
            "\u001b[0;32m/usr/local/lib/python3.6/dist-packages/jieba/__init__.py\u001b[0m in \u001b[0;36minitialize\u001b[0;34m(self, dictionary)\u001b[0m\n\u001b[1;32m    143\u001b[0m                 \u001b[0mDICT_WRITING\u001b[0m\u001b[0;34m[\u001b[0m\u001b[0mabs_path\u001b[0m\u001b[0;34m]\u001b[0m \u001b[0;34m=\u001b[0m \u001b[0mwlock\u001b[0m\u001b[0;34m\u001b[0m\u001b[0;34m\u001b[0m\u001b[0m\n\u001b[1;32m    144\u001b[0m                 \u001b[0;32mwith\u001b[0m \u001b[0mwlock\u001b[0m\u001b[0;34m:\u001b[0m\u001b[0;34m\u001b[0m\u001b[0;34m\u001b[0m\u001b[0m\n\u001b[0;32m--> 145\u001b[0;31m                     \u001b[0mself\u001b[0m\u001b[0;34m.\u001b[0m\u001b[0mFREQ\u001b[0m\u001b[0;34m,\u001b[0m \u001b[0mself\u001b[0m\u001b[0;34m.\u001b[0m\u001b[0mtotal\u001b[0m \u001b[0;34m=\u001b[0m \u001b[0mself\u001b[0m\u001b[0;34m.\u001b[0m\u001b[0mgen_pfdict\u001b[0m\u001b[0;34m(\u001b[0m\u001b[0mself\u001b[0m\u001b[0;34m.\u001b[0m\u001b[0mget_dict_file\u001b[0m\u001b[0;34m(\u001b[0m\u001b[0;34m)\u001b[0m\u001b[0;34m)\u001b[0m\u001b[0;34m\u001b[0m\u001b[0;34m\u001b[0m\u001b[0m\n\u001b[0m\u001b[1;32m    146\u001b[0m                     default_logger.debug(\n\u001b[1;32m    147\u001b[0m                         \"Dumping model to file cache %s\" % cache_file)\n",
            "\u001b[0;32m/usr/local/lib/python3.6/dist-packages/jieba/__init__.py\u001b[0m in \u001b[0;36mgen_pfdict\u001b[0;34m(f)\u001b[0m\n\u001b[1;32m     87\u001b[0m             \u001b[0;32mexcept\u001b[0m \u001b[0mValueError\u001b[0m\u001b[0;34m:\u001b[0m\u001b[0;34m\u001b[0m\u001b[0;34m\u001b[0m\u001b[0m\n\u001b[1;32m     88\u001b[0m                 raise ValueError(\n\u001b[0;32m---> 89\u001b[0;31m                     'invalid dictionary entry in %s at Line %s: %s' % (f_name, lineno, line))\n\u001b[0m\u001b[1;32m     90\u001b[0m         \u001b[0mf\u001b[0m\u001b[0;34m.\u001b[0m\u001b[0mclose\u001b[0m\u001b[0;34m(\u001b[0m\u001b[0;34m)\u001b[0m\u001b[0;34m\u001b[0m\u001b[0;34m\u001b[0m\u001b[0m\n\u001b[1;32m     91\u001b[0m         \u001b[0;32mreturn\u001b[0m \u001b[0mlfreq\u001b[0m\u001b[0;34m,\u001b[0m \u001b[0mltotal\u001b[0m\u001b[0;34m\u001b[0m\u001b[0;34m\u001b[0m\u001b[0m\n",
            "\u001b[0;31mValueError\u001b[0m: invalid dictionary entry in /content/mydict.txt at Line 1: 牛津市"
          ]
        }
      ]
    }
  ]
}