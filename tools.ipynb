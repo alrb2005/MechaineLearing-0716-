{
  "nbformat": 4,
  "nbformat_minor": 0,
  "metadata": {
    "colab": {
      "name": "tools.ipynb",
      "provenance": [],
      "authorship_tag": "ABX9TyPPEfJ8e2dwPKDaYQx+vpak",
      "include_colab_link": true
    },
    "kernelspec": {
      "name": "python3",
      "display_name": "Python 3"
    }
  },
  "cells": [
    {
      "cell_type": "markdown",
      "metadata": {
        "id": "view-in-github",
        "colab_type": "text"
      },
      "source": [
        "<a href=\"https://colab.research.google.com/github/alrb2005/MechaineLearing-0716-/blob/master/tools.ipynb\" target=\"_parent\"><img src=\"https://colab.research.google.com/assets/colab-badge.svg\" alt=\"Open In Colab\"/></a>"
      ]
    },
    {
      "cell_type": "code",
      "metadata": {
        "id": "tE-ukFYyZnlf",
        "colab_type": "code",
        "colab": {}
      },
      "source": [
        "! pip install opencc-python-reimplemented"
      ],
      "execution_count": null,
      "outputs": []
    },
    {
      "cell_type": "code",
      "metadata": {
        "id": "lFFXnHoAY1ik",
        "colab_type": "code",
        "colab": {
          "base_uri": "https://localhost:8080/",
          "height": 187
        },
        "outputId": "f3573b1a-e7eb-4de7-8a53-3eeb4e401851"
      },
      "source": [
        "from opencc import OpenCC\n",
        "cc = OpenCC('s2t')  # convert from Simplified Chinese to Traditional Chinese\n",
        "# can also set conversion by calling set_conversion\n",
        "# cc.set_conversion('s2tw')\n",
        "to_convert = '开放中文转换'\n",
        "converted = cc.convert(to_convert)"
      ],
      "execution_count": 1,
      "outputs": [
        {
          "output_type": "stream",
          "text": [
            "Collecting opencc-python-reimplemented\n",
            "\u001b[?25l  Downloading https://files.pythonhosted.org/packages/04/aa/02c5ffc87e2bf1da1f476d35aa4de69cad2cfc3140e37114755c454d1231/opencc-python-reimplemented-0.1.6.tar.gz (484kB)\n",
            "\r\u001b[K     |▊                               | 10kB 18.0MB/s eta 0:00:01\r\u001b[K     |█▍                              | 20kB 3.4MB/s eta 0:00:01\r\u001b[K     |██                              | 30kB 4.4MB/s eta 0:00:01\r\u001b[K     |██▊                             | 40kB 4.8MB/s eta 0:00:01\r\u001b[K     |███▍                            | 51kB 3.9MB/s eta 0:00:01\r\u001b[K     |████                            | 61kB 4.3MB/s eta 0:00:01\r\u001b[K     |████▊                           | 71kB 4.5MB/s eta 0:00:01\r\u001b[K     |█████▍                          | 81kB 5.0MB/s eta 0:00:01\r\u001b[K     |██████                          | 92kB 5.4MB/s eta 0:00:01\r\u001b[K     |██████▊                         | 102kB 5.2MB/s eta 0:00:01\r\u001b[K     |███████▍                        | 112kB 5.2MB/s eta 0:00:01\r\u001b[K     |████████▏                       | 122kB 5.2MB/s eta 0:00:01\r\u001b[K     |████████▉                       | 133kB 5.2MB/s eta 0:00:01\r\u001b[K     |█████████▌                      | 143kB 5.2MB/s eta 0:00:01\r\u001b[K     |██████████▏                     | 153kB 5.2MB/s eta 0:00:01\r\u001b[K     |██████████▉                     | 163kB 5.2MB/s eta 0:00:01\r\u001b[K     |███████████▌                    | 174kB 5.2MB/s eta 0:00:01\r\u001b[K     |████████████▏                   | 184kB 5.2MB/s eta 0:00:01\r\u001b[K     |████████████▉                   | 194kB 5.2MB/s eta 0:00:01\r\u001b[K     |█████████████▌                  | 204kB 5.2MB/s eta 0:00:01\r\u001b[K     |██████████████▏                 | 215kB 5.2MB/s eta 0:00:01\r\u001b[K     |██████████████▉                 | 225kB 5.2MB/s eta 0:00:01\r\u001b[K     |███████████████▌                | 235kB 5.2MB/s eta 0:00:01\r\u001b[K     |████████████████▎               | 245kB 5.2MB/s eta 0:00:01\r\u001b[K     |█████████████████               | 256kB 5.2MB/s eta 0:00:01\r\u001b[K     |█████████████████▋              | 266kB 5.2MB/s eta 0:00:01\r\u001b[K     |██████████████████▎             | 276kB 5.2MB/s eta 0:00:01\r\u001b[K     |███████████████████             | 286kB 5.2MB/s eta 0:00:01\r\u001b[K     |███████████████████▋            | 296kB 5.2MB/s eta 0:00:01\r\u001b[K     |████████████████████▎           | 307kB 5.2MB/s eta 0:00:01\r\u001b[K     |█████████████████████           | 317kB 5.2MB/s eta 0:00:01\r\u001b[K     |█████████████████████▋          | 327kB 5.2MB/s eta 0:00:01\r\u001b[K     |██████████████████████▎         | 337kB 5.2MB/s eta 0:00:01\r\u001b[K     |███████████████████████         | 348kB 5.2MB/s eta 0:00:01\r\u001b[K     |███████████████████████▊        | 358kB 5.2MB/s eta 0:00:01\r\u001b[K     |████████████████████████▍       | 368kB 5.2MB/s eta 0:00:01\r\u001b[K     |█████████████████████████       | 378kB 5.2MB/s eta 0:00:01\r\u001b[K     |█████████████████████████▊      | 389kB 5.2MB/s eta 0:00:01\r\u001b[K     |██████████████████████████▍     | 399kB 5.2MB/s eta 0:00:01\r\u001b[K     |███████████████████████████     | 409kB 5.2MB/s eta 0:00:01\r\u001b[K     |███████████████████████████▊    | 419kB 5.2MB/s eta 0:00:01\r\u001b[K     |████████████████████████████▍   | 430kB 5.2MB/s eta 0:00:01\r\u001b[K     |█████████████████████████████   | 440kB 5.2MB/s eta 0:00:01\r\u001b[K     |█████████████████████████████▊  | 450kB 5.2MB/s eta 0:00:01\r\u001b[K     |██████████████████████████████▍ | 460kB 5.2MB/s eta 0:00:01\r\u001b[K     |███████████████████████████████ | 471kB 5.2MB/s eta 0:00:01\r\u001b[K     |███████████████████████████████▉| 481kB 5.2MB/s eta 0:00:01\r\u001b[K     |████████████████████████████████| 491kB 5.2MB/s \n",
            "\u001b[?25hBuilding wheels for collected packages: opencc-python-reimplemented\n",
            "  Building wheel for opencc-python-reimplemented (setup.py) ... \u001b[?25l\u001b[?25hdone\n",
            "  Created wheel for opencc-python-reimplemented: filename=opencc_python_reimplemented-0.1.6-py2.py3-none-any.whl size=486136 sha256=0a21808020fd6d9d442921182543f6f120e430695152ff53bb026eb1a12a3789\n",
            "  Stored in directory: /root/.cache/pip/wheels/54/8a/0f/405db0ba3f02d9af8211422d3ae94c47b3296256f168ac1e68\n",
            "Successfully built opencc-python-reimplemented\n",
            "Installing collected packages: opencc-python-reimplemented\n",
            "Successfully installed opencc-python-reimplemented-0.1.6\n"
          ],
          "name": "stdout"
        }
      ]
    }
  ]
}