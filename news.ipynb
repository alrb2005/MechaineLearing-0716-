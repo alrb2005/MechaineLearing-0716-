{
  "nbformat": 4,
  "nbformat_minor": 0,
  "metadata": {
    "colab": {
      "name": "news.ipynb",
      "provenance": [],
      "mount_file_id": "1Q6MMEjhxUC8s3BQO2sp19UoNbVOhuIqZ",
      "authorship_tag": "ABX9TyOu+bTWV+XnWtJNDo8qwaJj",
      "include_colab_link": true
    },
    "kernelspec": {
      "name": "python3",
      "display_name": "Python 3"
    }
  },
  "cells": [
    {
      "cell_type": "markdown",
      "metadata": {
        "id": "view-in-github",
        "colab_type": "text"
      },
      "source": [
        "<a href=\"https://colab.research.google.com/github/alrb2005/MechaineLearing-0716-/blob/master/news.ipynb\" target=\"_parent\"><img src=\"https://colab.research.google.com/assets/colab-badge.svg\" alt=\"Open In Colab\"/></a>"
      ]
    },
    {
      "cell_type": "code",
      "metadata": {
        "id": "W5n_1sXxyel1",
        "colab_type": "code",
        "colab": {}
      },
      "source": [
        "# from google.colab import drive\n",
        "# drive.mount('/content/drive')"
      ],
      "execution_count": 85,
      "outputs": []
    },
    {
      "cell_type": "code",
      "metadata": {
        "id": "CPwaBv61yeoR",
        "colab_type": "code",
        "colab": {}
      },
      "source": [
        "import zipfile\n",
        "f = zipfile.ZipFile(\"drive/My Drive/AI課程/機器學習/chinese_news_trans.zip\")\n",
        "f.extractall(\"train\")\n",
        "f = zipfile.ZipFile(\"drive/My Drive/AI課程/機器學習/chinese_news_test.zip\")\n",
        "f.extractall(\"test\")"
      ],
      "execution_count": 86,
      "outputs": []
    },
    {
      "cell_type": "code",
      "metadata": {
        "id": "CI089syapd2f",
        "colab_type": "code",
        "colab": {}
      },
      "source": [
        "import glob\n",
        "import os \n",
        "import pandas as pd\n",
        "\n",
        "def getdf(targetdn):\n",
        "  datas = {\n",
        "        \"path\":[],\n",
        "        \"label\":[]\n",
        "\n",
        "  }\n",
        "\n",
        "  base = \"\"\n",
        "  p = os.path.join(base, targetdn, \"*\")\n",
        "  for dn in glob.glob(p):\n",
        "    name = os.path.split(dn)[-1]\n",
        "    os.path.split(dn)[-1]\n",
        "    fn = os.path.join(dn, \"*.[tT][xX][tT]\")\n",
        "    fns = glob.glob(fn)\n",
        "    datas[\"label\"] = datas[\"label\"] + [name] * len(fns)\n",
        "    datas[\"path\"] = datas[\"path\"] + fns\n",
        "  return pd.DataFrame(datas)"
      ],
      "execution_count": 87,
      "outputs": []
    },
    {
      "cell_type": "code",
      "metadata": {
        "id": "VaAoH-8EuGU4",
        "colab_type": "code",
        "colab": {
          "base_uri": "https://localhost:8080/",
          "height": 419
        },
        "outputId": "495c2b0b-06c4-4bd0-96ef-1a63099c5c90"
      },
      "source": [
        "train_df = getdf(\"train/chinese_news_trans\")\n",
        "test_df = getdf(\"test/chinese_news_test\")\n",
        "train_df"
      ],
      "execution_count": 88,
      "outputs": [
        {
          "output_type": "execute_result",
          "data": {
            "text/html": [
              "<div>\n",
              "<style scoped>\n",
              "    .dataframe tbody tr th:only-of-type {\n",
              "        vertical-align: middle;\n",
              "    }\n",
              "\n",
              "    .dataframe tbody tr th {\n",
              "        vertical-align: top;\n",
              "    }\n",
              "\n",
              "    .dataframe thead th {\n",
              "        text-align: right;\n",
              "    }\n",
              "</style>\n",
              "<table border=\"1\" class=\"dataframe\">\n",
              "  <thead>\n",
              "    <tr style=\"text-align: right;\">\n",
              "      <th></th>\n",
              "      <th>path</th>\n",
              "      <th>label</th>\n",
              "    </tr>\n",
              "  </thead>\n",
              "  <tbody>\n",
              "    <tr>\n",
              "      <th>0</th>\n",
              "      <td>train/chinese_news_trans/軍事/813.TXT</td>\n",
              "      <td>軍事</td>\n",
              "    </tr>\n",
              "    <tr>\n",
              "      <th>1</th>\n",
              "      <td>train/chinese_news_trans/軍事/8223.txt</td>\n",
              "      <td>軍事</td>\n",
              "    </tr>\n",
              "    <tr>\n",
              "      <th>2</th>\n",
              "      <td>train/chinese_news_trans/軍事/8123.TXT</td>\n",
              "      <td>軍事</td>\n",
              "    </tr>\n",
              "    <tr>\n",
              "      <th>3</th>\n",
              "      <td>train/chinese_news_trans/軍事/871.TXT</td>\n",
              "      <td>軍事</td>\n",
              "    </tr>\n",
              "    <tr>\n",
              "      <th>4</th>\n",
              "      <td>train/chinese_news_trans/軍事/889.TXT</td>\n",
              "      <td>軍事</td>\n",
              "    </tr>\n",
              "    <tr>\n",
              "      <th>...</th>\n",
              "      <td>...</td>\n",
              "      <td>...</td>\n",
              "    </tr>\n",
              "    <tr>\n",
              "      <th>2632</th>\n",
              "      <td>train/chinese_news_trans/政治/954.TXT</td>\n",
              "      <td>政治</td>\n",
              "    </tr>\n",
              "    <tr>\n",
              "      <th>2633</th>\n",
              "      <td>train/chinese_news_trans/政治/9463.TXT</td>\n",
              "      <td>政治</td>\n",
              "    </tr>\n",
              "    <tr>\n",
              "      <th>2634</th>\n",
              "      <td>train/chinese_news_trans/政治/9195.TXT</td>\n",
              "      <td>政治</td>\n",
              "    </tr>\n",
              "    <tr>\n",
              "      <th>2635</th>\n",
              "      <td>train/chinese_news_trans/政治/9444.TXT</td>\n",
              "      <td>政治</td>\n",
              "    </tr>\n",
              "    <tr>\n",
              "      <th>2636</th>\n",
              "      <td>train/chinese_news_trans/政治/9352.TXT</td>\n",
              "      <td>政治</td>\n",
              "    </tr>\n",
              "  </tbody>\n",
              "</table>\n",
              "<p>2637 rows × 2 columns</p>\n",
              "</div>"
            ],
            "text/plain": [
              "                                      path label\n",
              "0      train/chinese_news_trans/軍事/813.TXT    軍事\n",
              "1     train/chinese_news_trans/軍事/8223.txt    軍事\n",
              "2     train/chinese_news_trans/軍事/8123.TXT    軍事\n",
              "3      train/chinese_news_trans/軍事/871.TXT    軍事\n",
              "4      train/chinese_news_trans/軍事/889.TXT    軍事\n",
              "...                                    ...   ...\n",
              "2632   train/chinese_news_trans/政治/954.TXT    政治\n",
              "2633  train/chinese_news_trans/政治/9463.TXT    政治\n",
              "2634  train/chinese_news_trans/政治/9195.TXT    政治\n",
              "2635  train/chinese_news_trans/政治/9444.TXT    政治\n",
              "2636  train/chinese_news_trans/政治/9352.TXT    政治\n",
              "\n",
              "[2637 rows x 2 columns]"
            ]
          },
          "metadata": {
            "tags": []
          },
          "execution_count": 88
        }
      ]
    },
    {
      "cell_type": "code",
      "metadata": {
        "id": "uKObnIAfuceo",
        "colab_type": "code",
        "colab": {}
      },
      "source": [
        "def read_content(fn):\n",
        "  with open(fn, \"r\", encoding=\"utf-8\") as f:\n",
        "    content = f.read()\n",
        "  return content\n",
        "train_df[\"content\"] = train_df[\"path\"].apply(read_content)\n",
        "test_df[\"content\"] = test_df[\"path\"].apply(read_content)\n"
      ],
      "execution_count": 89,
      "outputs": []
    },
    {
      "cell_type": "markdown",
      "metadata": {
        "id": "nmj-VVeL1uvn",
        "colab_type": "text"
      },
      "source": [
        "訓練模型"
      ]
    },
    {
      "cell_type": "code",
      "metadata": {
        "id": "LiSo1usj4y8T",
        "colab_type": "code",
        "colab": {}
      },
      "source": [
        "u = train_df[\"label\"].unique()\n",
        "trans = {n:i for i, n in enumerate(u)}\n",
        "trans_r = {i:n for i, n in enumerate(u)}\n",
        "y_train = train_df[\"label\"].replace(trans)\n",
        "y_test = test_df[\"label\"].replace(trans)"
      ],
      "execution_count": 90,
      "outputs": []
    },
    {
      "cell_type": "code",
      "metadata": {
        "id": "smRYzbrc2S9I",
        "colab_type": "code",
        "colab": {}
      },
      "source": [
        "x_train = train_df[\"content\"]\n",
        "x_test = test_df[\"content\"]\n"
      ],
      "execution_count": 91,
      "outputs": []
    },
    {
      "cell_type": "code",
      "metadata": {
        "id": "7AT3652557ZH",
        "colab_type": "code",
        "colab": {
          "base_uri": "https://localhost:8080/",
          "height": 188
        },
        "outputId": "40addd69-ce36-486b-9d48-4cc4d1f7760a"
      },
      "source": [
        "import jieba\n",
        "p = train_df.iloc[0][\"content\"]\n",
        "\" \".join(jieba.cut(p))"
      ],
      "execution_count": 92,
      "outputs": [
        {
          "output_type": "stream",
          "text": [
            "Building prefix dict from the default dictionary ...\n",
            "Dumping model to file cache /tmp/jieba.cache\n",
            "Loading model cost 1.010 seconds.\n",
            "Prefix dict has been built successfully.\n"
          ],
          "name": "stderr"
        },
        {
          "output_type": "execute_result",
          "data": {
            "application/vnd.google.colaboratory.intrinsic+json": {
              "type": "string"
            },
            "text/plain": [
              "'                      古巴 宣 佈 舉行 軍事 演習 \\n 新華社 哈瓦那 ５ 月 １ 日電 古巴 革命 武裝部 今晚 發表公 \\n                           報宣 佈 ， 古巴 將從 ５ 月 ２ 日起 舉行 軍事 演習 ， 以 對 抗美國 \\n                           舉行 的 針對 古巴 的 大規模 軍事 演習 。 \\n                                   公報 說 ， 參加 這次 代號 為 “ 古巴 之盾 ” 軍事 演習 的 ， \\n                           除了 古巴 正規部隊 之外 ， 還有 民兵 。 \\n                                   據 古巴 革命 武裝部 ４ 月 ２ ９ 日 揭露 ， 美國 從 ５ 月 １ 日 \\n                           至 ５ 日 在 鄰近 古巴 領海 的 水域 同時 舉行 “ 海洋 冒險 ” 等 ３ \\n                           個 軍事 演習 。 參 加演 習 的 美軍有 第 ８ ２ 空降 師 ， 第 １ ０ １ \\n                           空襲師 和 第 ２ ４ 機械化 步兵 師 ， 數 百架 戰鬥機 和 轟炸機 ， \\n                           以及 許多 戰艦 。 \\n                                   另據 古巴 官方消息 說 ， 美國 ４ 月 ３ ０ 日 又 向 它 霸 佔 的 \\n                           古巴 關 塔那摩 海 軍 基地 增派 了 艦艇 ， 使在關 塔那摩 海軍基 \\n                           地 的 美國 軍艦 達 到 １ ２ 艘 。 （ 完 ） \\n \\n'"
            ]
          },
          "metadata": {
            "tags": []
          },
          "execution_count": 92
        }
      ]
    },
    {
      "cell_type": "code",
      "metadata": {
        "id": "zAv3K4rg6GVV",
        "colab_type": "code",
        "colab": {}
      },
      "source": [
        "def newscut(p):\n",
        "  return \" \".join(jieba.cut(p))\n",
        "x_train = train_df[\"content\"].apply(newscut)\n",
        "x_test = test_df[\"content\"].apply(newscut)\n"
      ],
      "execution_count": 93,
      "outputs": []
    },
    {
      "cell_type": "code",
      "metadata": {
        "id": "i_M2mF281tdi",
        "colab_type": "code",
        "colab": {}
      },
      "source": [
        "from sklearn.feature_extraction.text import CountVectorizer\n",
        "vec = CountVectorizer()\n",
        "x_train_count = vec.fit_transform(x_train)\n",
        "x_test_count = vec.transform(x_test)\n"
      ],
      "execution_count": 94,
      "outputs": []
    },
    {
      "cell_type": "code",
      "metadata": {
        "id": "xyDFZR1s3u12",
        "colab_type": "code",
        "colab": {
          "base_uri": "https://localhost:8080/",
          "height": 34
        },
        "outputId": "9737080d-a6d7-42fc-d077-02e035c0954a"
      },
      "source": [
        "from sklearn.naive_bayes import MultinomialNB\n",
        "clf = MultinomialNB()\n",
        "clf.fit(x_train_count, y_train)"
      ],
      "execution_count": 95,
      "outputs": [
        {
          "output_type": "execute_result",
          "data": {
            "text/plain": [
              "MultinomialNB(alpha=1.0, class_prior=None, fit_prior=True)"
            ]
          },
          "metadata": {
            "tags": []
          },
          "execution_count": 95
        }
      ]
    },
    {
      "cell_type": "code",
      "metadata": {
        "id": "okx-r6CN4ZlJ",
        "colab_type": "code",
        "colab": {
          "base_uri": "https://localhost:8080/",
          "height": 34
        },
        "outputId": "23e5be6e-ec6c-4e11-8bc8-db8327629003"
      },
      "source": [
        "from sklearn.metrics import accuracy_score\n",
        "pre = clf.predict(x_test_count)\n",
        "accuracy_score (pre, y_test)"
      ],
      "execution_count": 96,
      "outputs": [
        {
          "output_type": "execute_result",
          "data": {
            "text/plain": [
              "1.0"
            ]
          },
          "metadata": {
            "tags": []
          },
          "execution_count": 96
        }
      ]
    },
    {
      "cell_type": "code",
      "metadata": {
        "id": "8d8WU3l74MNE",
        "colab_type": "code",
        "colab": {
          "base_uri": "https://localhost:8080/",
          "height": 359
        },
        "outputId": "a3185751-3e43-4272-c8ea-6da7024da1c2"
      },
      "source": [
        "from sklearn.metrics import confusion_matrix\n",
        "mat = confusion_matrix(y_test, pre)\n",
        "pd.DataFrame(mat,\n",
        "      columns=[n+\"(預測)\" for n in u],\n",
        "      index=[n+\"(真實)\" for n in u ])"
      ],
      "execution_count": 97,
      "outputs": [
        {
          "output_type": "execute_result",
          "data": {
            "text/html": [
              "<div>\n",
              "<style scoped>\n",
              "    .dataframe tbody tr th:only-of-type {\n",
              "        vertical-align: middle;\n",
              "    }\n",
              "\n",
              "    .dataframe tbody tr th {\n",
              "        vertical-align: top;\n",
              "    }\n",
              "\n",
              "    .dataframe thead th {\n",
              "        text-align: right;\n",
              "    }\n",
              "</style>\n",
              "<table border=\"1\" class=\"dataframe\">\n",
              "  <thead>\n",
              "    <tr style=\"text-align: right;\">\n",
              "      <th></th>\n",
              "      <th>軍事(預測)</th>\n",
              "      <th>交通(預測)</th>\n",
              "      <th>計算機(預測)</th>\n",
              "      <th>環境(預測)</th>\n",
              "      <th>藝術(預測)</th>\n",
              "      <th>醫藥(預測)</th>\n",
              "      <th>教育(預測)</th>\n",
              "      <th>經濟(預測)</th>\n",
              "      <th>體育(預測)</th>\n",
              "      <th>政治(預測)</th>\n",
              "    </tr>\n",
              "  </thead>\n",
              "  <tbody>\n",
              "    <tr>\n",
              "      <th>軍事(真實)</th>\n",
              "      <td>10</td>\n",
              "      <td>0</td>\n",
              "      <td>0</td>\n",
              "      <td>0</td>\n",
              "      <td>0</td>\n",
              "      <td>0</td>\n",
              "      <td>0</td>\n",
              "      <td>0</td>\n",
              "      <td>0</td>\n",
              "      <td>0</td>\n",
              "    </tr>\n",
              "    <tr>\n",
              "      <th>交通(真實)</th>\n",
              "      <td>0</td>\n",
              "      <td>10</td>\n",
              "      <td>0</td>\n",
              "      <td>0</td>\n",
              "      <td>0</td>\n",
              "      <td>0</td>\n",
              "      <td>0</td>\n",
              "      <td>0</td>\n",
              "      <td>0</td>\n",
              "      <td>0</td>\n",
              "    </tr>\n",
              "    <tr>\n",
              "      <th>計算機(真實)</th>\n",
              "      <td>0</td>\n",
              "      <td>0</td>\n",
              "      <td>10</td>\n",
              "      <td>0</td>\n",
              "      <td>0</td>\n",
              "      <td>0</td>\n",
              "      <td>0</td>\n",
              "      <td>0</td>\n",
              "      <td>0</td>\n",
              "      <td>0</td>\n",
              "    </tr>\n",
              "    <tr>\n",
              "      <th>環境(真實)</th>\n",
              "      <td>0</td>\n",
              "      <td>0</td>\n",
              "      <td>0</td>\n",
              "      <td>10</td>\n",
              "      <td>0</td>\n",
              "      <td>0</td>\n",
              "      <td>0</td>\n",
              "      <td>0</td>\n",
              "      <td>0</td>\n",
              "      <td>0</td>\n",
              "    </tr>\n",
              "    <tr>\n",
              "      <th>藝術(真實)</th>\n",
              "      <td>0</td>\n",
              "      <td>0</td>\n",
              "      <td>0</td>\n",
              "      <td>0</td>\n",
              "      <td>10</td>\n",
              "      <td>0</td>\n",
              "      <td>0</td>\n",
              "      <td>0</td>\n",
              "      <td>0</td>\n",
              "      <td>0</td>\n",
              "    </tr>\n",
              "    <tr>\n",
              "      <th>醫藥(真實)</th>\n",
              "      <td>0</td>\n",
              "      <td>0</td>\n",
              "      <td>0</td>\n",
              "      <td>0</td>\n",
              "      <td>0</td>\n",
              "      <td>10</td>\n",
              "      <td>0</td>\n",
              "      <td>0</td>\n",
              "      <td>0</td>\n",
              "      <td>0</td>\n",
              "    </tr>\n",
              "    <tr>\n",
              "      <th>教育(真實)</th>\n",
              "      <td>0</td>\n",
              "      <td>0</td>\n",
              "      <td>0</td>\n",
              "      <td>0</td>\n",
              "      <td>0</td>\n",
              "      <td>0</td>\n",
              "      <td>10</td>\n",
              "      <td>0</td>\n",
              "      <td>0</td>\n",
              "      <td>0</td>\n",
              "    </tr>\n",
              "    <tr>\n",
              "      <th>經濟(真實)</th>\n",
              "      <td>0</td>\n",
              "      <td>0</td>\n",
              "      <td>0</td>\n",
              "      <td>0</td>\n",
              "      <td>0</td>\n",
              "      <td>0</td>\n",
              "      <td>0</td>\n",
              "      <td>10</td>\n",
              "      <td>0</td>\n",
              "      <td>0</td>\n",
              "    </tr>\n",
              "    <tr>\n",
              "      <th>體育(真實)</th>\n",
              "      <td>0</td>\n",
              "      <td>0</td>\n",
              "      <td>0</td>\n",
              "      <td>0</td>\n",
              "      <td>0</td>\n",
              "      <td>0</td>\n",
              "      <td>0</td>\n",
              "      <td>0</td>\n",
              "      <td>10</td>\n",
              "      <td>0</td>\n",
              "    </tr>\n",
              "    <tr>\n",
              "      <th>政治(真實)</th>\n",
              "      <td>0</td>\n",
              "      <td>0</td>\n",
              "      <td>0</td>\n",
              "      <td>0</td>\n",
              "      <td>0</td>\n",
              "      <td>0</td>\n",
              "      <td>0</td>\n",
              "      <td>0</td>\n",
              "      <td>0</td>\n",
              "      <td>11</td>\n",
              "    </tr>\n",
              "  </tbody>\n",
              "</table>\n",
              "</div>"
            ],
            "text/plain": [
              "         軍事(預測)  交通(預測)  計算機(預測)  環境(預測)  ...  教育(預測)  經濟(預測)  體育(預測)  政治(預測)\n",
              "軍事(真實)       10       0        0       0  ...       0       0       0       0\n",
              "交通(真實)        0      10        0       0  ...       0       0       0       0\n",
              "計算機(真實)       0       0       10       0  ...       0       0       0       0\n",
              "環境(真實)        0       0        0      10  ...       0       0       0       0\n",
              "藝術(真實)        0       0        0       0  ...       0       0       0       0\n",
              "醫藥(真實)        0       0        0       0  ...       0       0       0       0\n",
              "教育(真實)        0       0        0       0  ...      10       0       0       0\n",
              "經濟(真實)        0       0        0       0  ...       0      10       0       0\n",
              "體育(真實)        0       0        0       0  ...       0       0      10       0\n",
              "政治(真實)        0       0        0       0  ...       0       0       0      11\n",
              "\n",
              "[10 rows x 10 columns]"
            ]
          },
          "metadata": {
            "tags": []
          },
          "execution_count": 97
        }
      ]
    },
    {
      "cell_type": "code",
      "metadata": {
        "id": "NDFx2Afq5KKa",
        "colab_type": "code",
        "colab": {
          "base_uri": "https://localhost:8080/",
          "height": 221
        },
        "outputId": "2350e717-892f-4614-b90d-240d05b42f17"
      },
      "source": [
        "test = input(\"輸入新聞:\")\n",
        "count = vec.transform([poemcut(test)])\n",
        "answer = clf.predict(count)[0]\n",
        "proba = clf.predict_proba(count)[0]\n",
        "for name, p in zip(u, proba):\n",
        "  print(name, \"的機率:\", p)\n",
        "print(\"答案:\", trans_r[answer])"
      ],
      "execution_count": 103,
      "outputs": [
        {
          "output_type": "stream",
          "text": [
            "輸入新聞:邊緣人\n",
            "軍事 的機率: 0.06364113107177174\n",
            "交通 的機率: 0.08597370335962616\n",
            "計算機 的機率: 0.12786796744333698\n",
            "環境 的機率: 0.13129645603152112\n",
            "藝術 的機率: 0.024540183821947004\n",
            "醫藥 的機率: 0.030722922868781484\n",
            "教育 的機率: 0.06724468321111134\n",
            "經濟 的機率: 0.23075759795681103\n",
            "體育 的機率: 0.17228940664071282\n",
            "政治 的機率: 0.06566594759438103\n",
            "答案: 經濟\n"
          ],
          "name": "stdout"
        }
      ]
    }
  ]
}