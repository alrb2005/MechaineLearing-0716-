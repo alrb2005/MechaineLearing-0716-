{
  "nbformat": 4,
  "nbformat_minor": 0,
  "metadata": {
    "colab": {
      "name": "test0716.ipynb",
      "provenance": [],
      "authorship_tag": "ABX9TyNfBJBFLzYMLmJEBhgvO3W6",
      "include_colab_link": true
    },
    "kernelspec": {
      "name": "python3",
      "display_name": "Python 3"
    }
  },
  "cells": [
    {
      "cell_type": "markdown",
      "metadata": {
        "id": "view-in-github",
        "colab_type": "text"
      },
      "source": [
        "<a href=\"https://colab.research.google.com/github/alrb2005/MechaineLearing-0716-/blob/master/test0716-Regressor_model.ipynb\" target=\"_parent\"><img src=\"https://colab.research.google.com/assets/colab-badge.svg\" alt=\"Open In Colab\"/></a>"
      ]
    },
    {
      "cell_type": "code",
      "metadata": {
        "id": "5HrO0tCMcns6",
        "colab_type": "code",
        "colab": {
          "base_uri": "https://localhost:8080/",
          "height": 419
        },
        "outputId": "d5802dd0-4c76-4bd9-a281-283d82b39516"
      },
      "source": [
        "import pandas as pd\n",
        "from sklearn.datasets import load_boston\n",
        "boston = load_boston()\n",
        "df = pd.DataFrame(boston [\"data\"],\n",
        "                  columns = boston[\"feature_names\"])\n",
        "df[\"answer\"] = boston[\"target\"]\n",
        "df.to_csv(\"boston.csv\", encoding=\"utf8\", index=\"false\")\n",
        "df\n"
      ],
      "execution_count": 140,
      "outputs": [
        {
          "output_type": "execute_result",
          "data": {
            "text/html": [
              "<div>\n",
              "<style scoped>\n",
              "    .dataframe tbody tr th:only-of-type {\n",
              "        vertical-align: middle;\n",
              "    }\n",
              "\n",
              "    .dataframe tbody tr th {\n",
              "        vertical-align: top;\n",
              "    }\n",
              "\n",
              "    .dataframe thead th {\n",
              "        text-align: right;\n",
              "    }\n",
              "</style>\n",
              "<table border=\"1\" class=\"dataframe\">\n",
              "  <thead>\n",
              "    <tr style=\"text-align: right;\">\n",
              "      <th></th>\n",
              "      <th>CRIM</th>\n",
              "      <th>ZN</th>\n",
              "      <th>INDUS</th>\n",
              "      <th>CHAS</th>\n",
              "      <th>NOX</th>\n",
              "      <th>RM</th>\n",
              "      <th>AGE</th>\n",
              "      <th>DIS</th>\n",
              "      <th>RAD</th>\n",
              "      <th>TAX</th>\n",
              "      <th>PTRATIO</th>\n",
              "      <th>B</th>\n",
              "      <th>LSTAT</th>\n",
              "      <th>answer</th>\n",
              "    </tr>\n",
              "  </thead>\n",
              "  <tbody>\n",
              "    <tr>\n",
              "      <th>0</th>\n",
              "      <td>0.00632</td>\n",
              "      <td>18.0</td>\n",
              "      <td>2.31</td>\n",
              "      <td>0.0</td>\n",
              "      <td>0.538</td>\n",
              "      <td>6.575</td>\n",
              "      <td>65.2</td>\n",
              "      <td>4.0900</td>\n",
              "      <td>1.0</td>\n",
              "      <td>296.0</td>\n",
              "      <td>15.3</td>\n",
              "      <td>396.90</td>\n",
              "      <td>4.98</td>\n",
              "      <td>24.0</td>\n",
              "    </tr>\n",
              "    <tr>\n",
              "      <th>1</th>\n",
              "      <td>0.02731</td>\n",
              "      <td>0.0</td>\n",
              "      <td>7.07</td>\n",
              "      <td>0.0</td>\n",
              "      <td>0.469</td>\n",
              "      <td>6.421</td>\n",
              "      <td>78.9</td>\n",
              "      <td>4.9671</td>\n",
              "      <td>2.0</td>\n",
              "      <td>242.0</td>\n",
              "      <td>17.8</td>\n",
              "      <td>396.90</td>\n",
              "      <td>9.14</td>\n",
              "      <td>21.6</td>\n",
              "    </tr>\n",
              "    <tr>\n",
              "      <th>2</th>\n",
              "      <td>0.02729</td>\n",
              "      <td>0.0</td>\n",
              "      <td>7.07</td>\n",
              "      <td>0.0</td>\n",
              "      <td>0.469</td>\n",
              "      <td>7.185</td>\n",
              "      <td>61.1</td>\n",
              "      <td>4.9671</td>\n",
              "      <td>2.0</td>\n",
              "      <td>242.0</td>\n",
              "      <td>17.8</td>\n",
              "      <td>392.83</td>\n",
              "      <td>4.03</td>\n",
              "      <td>34.7</td>\n",
              "    </tr>\n",
              "    <tr>\n",
              "      <th>3</th>\n",
              "      <td>0.03237</td>\n",
              "      <td>0.0</td>\n",
              "      <td>2.18</td>\n",
              "      <td>0.0</td>\n",
              "      <td>0.458</td>\n",
              "      <td>6.998</td>\n",
              "      <td>45.8</td>\n",
              "      <td>6.0622</td>\n",
              "      <td>3.0</td>\n",
              "      <td>222.0</td>\n",
              "      <td>18.7</td>\n",
              "      <td>394.63</td>\n",
              "      <td>2.94</td>\n",
              "      <td>33.4</td>\n",
              "    </tr>\n",
              "    <tr>\n",
              "      <th>4</th>\n",
              "      <td>0.06905</td>\n",
              "      <td>0.0</td>\n",
              "      <td>2.18</td>\n",
              "      <td>0.0</td>\n",
              "      <td>0.458</td>\n",
              "      <td>7.147</td>\n",
              "      <td>54.2</td>\n",
              "      <td>6.0622</td>\n",
              "      <td>3.0</td>\n",
              "      <td>222.0</td>\n",
              "      <td>18.7</td>\n",
              "      <td>396.90</td>\n",
              "      <td>5.33</td>\n",
              "      <td>36.2</td>\n",
              "    </tr>\n",
              "    <tr>\n",
              "      <th>...</th>\n",
              "      <td>...</td>\n",
              "      <td>...</td>\n",
              "      <td>...</td>\n",
              "      <td>...</td>\n",
              "      <td>...</td>\n",
              "      <td>...</td>\n",
              "      <td>...</td>\n",
              "      <td>...</td>\n",
              "      <td>...</td>\n",
              "      <td>...</td>\n",
              "      <td>...</td>\n",
              "      <td>...</td>\n",
              "      <td>...</td>\n",
              "      <td>...</td>\n",
              "    </tr>\n",
              "    <tr>\n",
              "      <th>501</th>\n",
              "      <td>0.06263</td>\n",
              "      <td>0.0</td>\n",
              "      <td>11.93</td>\n",
              "      <td>0.0</td>\n",
              "      <td>0.573</td>\n",
              "      <td>6.593</td>\n",
              "      <td>69.1</td>\n",
              "      <td>2.4786</td>\n",
              "      <td>1.0</td>\n",
              "      <td>273.0</td>\n",
              "      <td>21.0</td>\n",
              "      <td>391.99</td>\n",
              "      <td>9.67</td>\n",
              "      <td>22.4</td>\n",
              "    </tr>\n",
              "    <tr>\n",
              "      <th>502</th>\n",
              "      <td>0.04527</td>\n",
              "      <td>0.0</td>\n",
              "      <td>11.93</td>\n",
              "      <td>0.0</td>\n",
              "      <td>0.573</td>\n",
              "      <td>6.120</td>\n",
              "      <td>76.7</td>\n",
              "      <td>2.2875</td>\n",
              "      <td>1.0</td>\n",
              "      <td>273.0</td>\n",
              "      <td>21.0</td>\n",
              "      <td>396.90</td>\n",
              "      <td>9.08</td>\n",
              "      <td>20.6</td>\n",
              "    </tr>\n",
              "    <tr>\n",
              "      <th>503</th>\n",
              "      <td>0.06076</td>\n",
              "      <td>0.0</td>\n",
              "      <td>11.93</td>\n",
              "      <td>0.0</td>\n",
              "      <td>0.573</td>\n",
              "      <td>6.976</td>\n",
              "      <td>91.0</td>\n",
              "      <td>2.1675</td>\n",
              "      <td>1.0</td>\n",
              "      <td>273.0</td>\n",
              "      <td>21.0</td>\n",
              "      <td>396.90</td>\n",
              "      <td>5.64</td>\n",
              "      <td>23.9</td>\n",
              "    </tr>\n",
              "    <tr>\n",
              "      <th>504</th>\n",
              "      <td>0.10959</td>\n",
              "      <td>0.0</td>\n",
              "      <td>11.93</td>\n",
              "      <td>0.0</td>\n",
              "      <td>0.573</td>\n",
              "      <td>6.794</td>\n",
              "      <td>89.3</td>\n",
              "      <td>2.3889</td>\n",
              "      <td>1.0</td>\n",
              "      <td>273.0</td>\n",
              "      <td>21.0</td>\n",
              "      <td>393.45</td>\n",
              "      <td>6.48</td>\n",
              "      <td>22.0</td>\n",
              "    </tr>\n",
              "    <tr>\n",
              "      <th>505</th>\n",
              "      <td>0.04741</td>\n",
              "      <td>0.0</td>\n",
              "      <td>11.93</td>\n",
              "      <td>0.0</td>\n",
              "      <td>0.573</td>\n",
              "      <td>6.030</td>\n",
              "      <td>80.8</td>\n",
              "      <td>2.5050</td>\n",
              "      <td>1.0</td>\n",
              "      <td>273.0</td>\n",
              "      <td>21.0</td>\n",
              "      <td>396.90</td>\n",
              "      <td>7.88</td>\n",
              "      <td>11.9</td>\n",
              "    </tr>\n",
              "  </tbody>\n",
              "</table>\n",
              "<p>506 rows × 14 columns</p>\n",
              "</div>"
            ],
            "text/plain": [
              "        CRIM    ZN  INDUS  CHAS    NOX  ...    TAX  PTRATIO       B  LSTAT  answer\n",
              "0    0.00632  18.0   2.31   0.0  0.538  ...  296.0     15.3  396.90   4.98    24.0\n",
              "1    0.02731   0.0   7.07   0.0  0.469  ...  242.0     17.8  396.90   9.14    21.6\n",
              "2    0.02729   0.0   7.07   0.0  0.469  ...  242.0     17.8  392.83   4.03    34.7\n",
              "3    0.03237   0.0   2.18   0.0  0.458  ...  222.0     18.7  394.63   2.94    33.4\n",
              "4    0.06905   0.0   2.18   0.0  0.458  ...  222.0     18.7  396.90   5.33    36.2\n",
              "..       ...   ...    ...   ...    ...  ...    ...      ...     ...    ...     ...\n",
              "501  0.06263   0.0  11.93   0.0  0.573  ...  273.0     21.0  391.99   9.67    22.4\n",
              "502  0.04527   0.0  11.93   0.0  0.573  ...  273.0     21.0  396.90   9.08    20.6\n",
              "503  0.06076   0.0  11.93   0.0  0.573  ...  273.0     21.0  396.90   5.64    23.9\n",
              "504  0.10959   0.0  11.93   0.0  0.573  ...  273.0     21.0  393.45   6.48    22.0\n",
              "505  0.04741   0.0  11.93   0.0  0.573  ...  273.0     21.0  396.90   7.88    11.9\n",
              "\n",
              "[506 rows x 14 columns]"
            ]
          },
          "metadata": {
            "tags": []
          },
          "execution_count": 140
        }
      ]
    },
    {
      "cell_type": "code",
      "metadata": {
        "id": "SaeavEr2Ptyg",
        "colab_type": "code",
        "colab": {}
      },
      "source": [
        "from sklearn.model_selection import train_test_split\n",
        "#[ 90% data, 10% data, 90%target, 10% target]\n",
        "x_train, x_test, y_train, y_test = train_test_split(boston[\"data\"],\n",
        "                                                    boston[\"target\"],\n",
        "                                                    test_size=0.1)"
      ],
      "execution_count": 141,
      "outputs": []
    },
    {
      "cell_type": "code",
      "metadata": {
        "id": "sbYi-NkaTFiL",
        "colab_type": "code",
        "colab": {
          "base_uri": "https://localhost:8080/",
          "height": 119
        },
        "outputId": "2168acb3-c9a7-4c10-aae2-156278bf1669"
      },
      "source": [
        "from sklearn.tree import DecisionTreeRegressor\n",
        "clf = DecisionTreeRegressor(max_depth=5, random_state=0)\n",
        "clf.fit (x_train, y_train)"
      ],
      "execution_count": 142,
      "outputs": [
        {
          "output_type": "execute_result",
          "data": {
            "text/plain": [
              "DecisionTreeRegressor(ccp_alpha=0.0, criterion='mse', max_depth=5,\n",
              "                      max_features=None, max_leaf_nodes=None,\n",
              "                      min_impurity_decrease=0.0, min_impurity_split=None,\n",
              "                      min_samples_leaf=1, min_samples_split=2,\n",
              "                      min_weight_fraction_leaf=0.0, presort='deprecated',\n",
              "                      random_state=0, splitter='best')"
            ]
          },
          "metadata": {
            "tags": []
          },
          "execution_count": 142
        }
      ]
    },
    {
      "cell_type": "code",
      "metadata": {
        "id": "SWwf-0bpTyDv",
        "colab_type": "code",
        "colab": {
          "base_uri": "https://localhost:8080/",
          "height": 816
        },
        "outputId": "956318ac-c0d6-483b-d5cc-dad45547a7a9"
      },
      "source": [
        "import graphviz\n",
        "from sklearn.tree import export_graphviz\n",
        "g = export_graphviz(clf,\n",
        "                    feature_names=boston[\"feature_names\"],\n",
        "                    filled=True)\n",
        "graphviz.Source(g)"
      ],
      "execution_count": 143,
      "outputs": [
        {
          "output_type": "execute_result",
          "data": {
            "text/plain": [
              "<graphviz.files.Source at 0x7f4a7623a630>"
            ],
            "image/svg+xml": "<?xml version=\"1.0\" encoding=\"UTF-8\" standalone=\"no\"?>\n<!DOCTYPE svg PUBLIC \"-//W3C//DTD SVG 1.1//EN\"\n \"http://www.w3.org/Graphics/SVG/1.1/DTD/svg11.dtd\">\n<!-- Generated by graphviz version 2.40.1 (20161225.0304)\n -->\n<!-- Title: Tree Pages: 1 -->\n<svg width=\"2777pt\" height=\"581pt\"\n viewBox=\"0.00 0.00 2776.50 581.00\" xmlns=\"http://www.w3.org/2000/svg\" xmlns:xlink=\"http://www.w3.org/1999/xlink\">\n<g id=\"graph0\" class=\"graph\" transform=\"scale(1 1) rotate(0) translate(4 577)\">\n<title>Tree</title>\n<polygon fill=\"#ffffff\" stroke=\"transparent\" points=\"-4,4 -4,-577 2772.5,-577 2772.5,4 -4,4\"/>\n<!-- 0 -->\n<g id=\"node1\" class=\"node\">\n<title>0</title>\n<polygon fill=\"#f6d5be\" stroke=\"#000000\" points=\"1073,-573 955,-573 955,-505 1073,-505 1073,-573\"/>\n<text text-anchor=\"middle\" x=\"1014\" y=\"-557.8\" font-family=\"Times,serif\" font-size=\"14.00\" fill=\"#000000\">LSTAT &lt;= 9.725</text>\n<text text-anchor=\"middle\" x=\"1014\" y=\"-542.8\" font-family=\"Times,serif\" font-size=\"14.00\" fill=\"#000000\">mse = 84.673</text>\n<text text-anchor=\"middle\" x=\"1014\" y=\"-527.8\" font-family=\"Times,serif\" font-size=\"14.00\" fill=\"#000000\">samples = 455</text>\n<text text-anchor=\"middle\" x=\"1014\" y=\"-512.8\" font-family=\"Times,serif\" font-size=\"14.00\" fill=\"#000000\">value = 22.44</text>\n</g>\n<!-- 1 -->\n<g id=\"node2\" class=\"node\">\n<title>1</title>\n<polygon fill=\"#f2bf9a\" stroke=\"#000000\" points=\"821,-469 717,-469 717,-401 821,-401 821,-469\"/>\n<text text-anchor=\"middle\" x=\"769\" y=\"-453.8\" font-family=\"Times,serif\" font-size=\"14.00\" fill=\"#000000\">RM &lt;= 7.437</text>\n<text text-anchor=\"middle\" x=\"769\" y=\"-438.8\" font-family=\"Times,serif\" font-size=\"14.00\" fill=\"#000000\">mse = 81.673</text>\n<text text-anchor=\"middle\" x=\"769\" y=\"-423.8\" font-family=\"Times,serif\" font-size=\"14.00\" fill=\"#000000\">samples = 186</text>\n<text text-anchor=\"middle\" x=\"769\" y=\"-408.8\" font-family=\"Times,serif\" font-size=\"14.00\" fill=\"#000000\">value = 29.764</text>\n</g>\n<!-- 0&#45;&gt;1 -->\n<g id=\"edge1\" class=\"edge\">\n<title>0&#45;&gt;1</title>\n<path fill=\"none\" stroke=\"#000000\" d=\"M954.6923,-513.8245C917.0927,-497.8639 868.5556,-477.2603 830.5348,-461.1209\"/>\n<polygon fill=\"#000000\" stroke=\"#000000\" points=\"831.6807,-457.8051 821.1081,-457.1194 828.9455,-464.2486 831.6807,-457.8051\"/>\n<text text-anchor=\"middle\" x=\"830.473\" y=\"-476.5991\" font-family=\"Times,serif\" font-size=\"14.00\" fill=\"#000000\">True</text>\n</g>\n<!-- 20 -->\n<g id=\"node21\" class=\"node\">\n<title>20</title>\n<polygon fill=\"#fae5d6\" stroke=\"#000000\" points=\"1441.5,-469 1316.5,-469 1316.5,-401 1441.5,-401 1441.5,-469\"/>\n<text text-anchor=\"middle\" x=\"1379\" y=\"-453.8\" font-family=\"Times,serif\" font-size=\"14.00\" fill=\"#000000\">LSTAT &lt;= 16.085</text>\n<text text-anchor=\"middle\" x=\"1379\" y=\"-438.8\" font-family=\"Times,serif\" font-size=\"14.00\" fill=\"#000000\">mse = 24.013</text>\n<text text-anchor=\"middle\" x=\"1379\" y=\"-423.8\" font-family=\"Times,serif\" font-size=\"14.00\" fill=\"#000000\">samples = 269</text>\n<text text-anchor=\"middle\" x=\"1379\" y=\"-408.8\" font-family=\"Times,serif\" font-size=\"14.00\" fill=\"#000000\">value = 17.376</text>\n</g>\n<!-- 0&#45;&gt;20 -->\n<g id=\"edge20\" class=\"edge\">\n<title>0&#45;&gt;20</title>\n<path fill=\"none\" stroke=\"#000000\" d=\"M1073.0492,-522.175C1136.7025,-504.0382 1238.0748,-475.154 1306.515,-455.6533\"/>\n<polygon fill=\"#000000\" stroke=\"#000000\" points=\"1307.7072,-458.9529 1316.3653,-452.8466 1305.789,-452.2209 1307.7072,-458.9529\"/>\n<text text-anchor=\"middle\" x=\"1304.2084\" y=\"-470.9917\" font-family=\"Times,serif\" font-size=\"14.00\" fill=\"#000000\">False</text>\n</g>\n<!-- 2 -->\n<g id=\"node3\" class=\"node\">\n<title>2</title>\n<polygon fill=\"#f4c7a8\" stroke=\"#000000\" points=\"415,-365 311,-365 311,-297 415,-297 415,-365\"/>\n<text text-anchor=\"middle\" x=\"363\" y=\"-349.8\" font-family=\"Times,serif\" font-size=\"14.00\" fill=\"#000000\">DIS &lt;= 1.485</text>\n<text text-anchor=\"middle\" x=\"363\" y=\"-334.8\" font-family=\"Times,serif\" font-size=\"14.00\" fill=\"#000000\">mse = 38.999</text>\n<text text-anchor=\"middle\" x=\"363\" y=\"-319.8\" font-family=\"Times,serif\" font-size=\"14.00\" fill=\"#000000\">samples = 158</text>\n<text text-anchor=\"middle\" x=\"363\" y=\"-304.8\" font-family=\"Times,serif\" font-size=\"14.00\" fill=\"#000000\">value = 27.005</text>\n</g>\n<!-- 1&#45;&gt;2 -->\n<g id=\"edge2\" class=\"edge\">\n<title>1&#45;&gt;2</title>\n<path fill=\"none\" stroke=\"#000000\" d=\"M716.7538,-421.6167C641.994,-402.4664 504.7411,-367.3081 424.9579,-346.871\"/>\n<polygon fill=\"#000000\" stroke=\"#000000\" points=\"425.6015,-343.4229 415.0457,-344.3319 423.8644,-350.204 425.6015,-343.4229\"/>\n</g>\n<!-- 11 -->\n<g id=\"node12\" class=\"node\">\n<title>11</title>\n<polygon fill=\"#e88f4f\" stroke=\"#000000\" points=\"824.5,-365 713.5,-365 713.5,-297 824.5,-297 824.5,-365\"/>\n<text text-anchor=\"middle\" x=\"769\" y=\"-349.8\" font-family=\"Times,serif\" font-size=\"14.00\" fill=\"#000000\">CRIM &lt;= 2.742</text>\n<text text-anchor=\"middle\" x=\"769\" y=\"-334.8\" font-family=\"Times,serif\" font-size=\"14.00\" fill=\"#000000\">mse = 37.153</text>\n<text text-anchor=\"middle\" x=\"769\" y=\"-319.8\" font-family=\"Times,serif\" font-size=\"14.00\" fill=\"#000000\">samples = 28</text>\n<text text-anchor=\"middle\" x=\"769\" y=\"-304.8\" font-family=\"Times,serif\" font-size=\"14.00\" fill=\"#000000\">value = 45.332</text>\n</g>\n<!-- 1&#45;&gt;11 -->\n<g id=\"edge11\" class=\"edge\">\n<title>1&#45;&gt;11</title>\n<path fill=\"none\" stroke=\"#000000\" d=\"M769,-400.9465C769,-392.776 769,-383.9318 769,-375.3697\"/>\n<polygon fill=\"#000000\" stroke=\"#000000\" points=\"772.5001,-375.13 769,-365.13 765.5001,-375.13 772.5001,-375.13\"/>\n</g>\n<!-- 3 -->\n<g id=\"node4\" class=\"node\">\n<title>3</title>\n<polygon fill=\"#e58139\" stroke=\"#000000\" points=\"292.5,-253.5 203.5,-253.5 203.5,-200.5 292.5,-200.5 292.5,-253.5\"/>\n<text text-anchor=\"middle\" x=\"248\" y=\"-238.3\" font-family=\"Times,serif\" font-size=\"14.00\" fill=\"#000000\">mse = 0.0</text>\n<text text-anchor=\"middle\" x=\"248\" y=\"-223.3\" font-family=\"Times,serif\" font-size=\"14.00\" fill=\"#000000\">samples = 4</text>\n<text text-anchor=\"middle\" x=\"248\" y=\"-208.3\" font-family=\"Times,serif\" font-size=\"14.00\" fill=\"#000000\">value = 50.0</text>\n</g>\n<!-- 2&#45;&gt;3 -->\n<g id=\"edge3\" class=\"edge\">\n<title>2&#45;&gt;3</title>\n<path fill=\"none\" stroke=\"#000000\" d=\"M325.3447,-296.9465C312.3122,-285.1606 297.7294,-271.9726 284.7689,-260.2519\"/>\n<polygon fill=\"#000000\" stroke=\"#000000\" points=\"287.114,-257.6537 277.3495,-253.5422 282.4188,-262.8456 287.114,-257.6537\"/>\n</g>\n<!-- 4 -->\n<g id=\"node5\" class=\"node\">\n<title>4</title>\n<polygon fill=\"#f4c9ab\" stroke=\"#000000\" points=\"415,-261 311,-261 311,-193 415,-193 415,-261\"/>\n<text text-anchor=\"middle\" x=\"363\" y=\"-245.8\" font-family=\"Times,serif\" font-size=\"14.00\" fill=\"#000000\">RM &lt;= 6.797</text>\n<text text-anchor=\"middle\" x=\"363\" y=\"-230.8\" font-family=\"Times,serif\" font-size=\"14.00\" fill=\"#000000\">mse = 25.921</text>\n<text text-anchor=\"middle\" x=\"363\" y=\"-215.8\" font-family=\"Times,serif\" font-size=\"14.00\" fill=\"#000000\">samples = 154</text>\n<text text-anchor=\"middle\" x=\"363\" y=\"-200.8\" font-family=\"Times,serif\" font-size=\"14.00\" fill=\"#000000\">value = 26.408</text>\n</g>\n<!-- 2&#45;&gt;4 -->\n<g id=\"edge4\" class=\"edge\">\n<title>2&#45;&gt;4</title>\n<path fill=\"none\" stroke=\"#000000\" d=\"M363,-296.9465C363,-288.776 363,-279.9318 363,-271.3697\"/>\n<polygon fill=\"#000000\" stroke=\"#000000\" points=\"366.5001,-271.13 363,-261.13 359.5001,-271.13 366.5001,-271.13\"/>\n</g>\n<!-- 5 -->\n<g id=\"node6\" class=\"node\">\n<title>5</title>\n<polygon fill=\"#f5d0b6\" stroke=\"#000000\" points=\"223,-157 125,-157 125,-89 223,-89 223,-157\"/>\n<text text-anchor=\"middle\" x=\"174\" y=\"-141.8\" font-family=\"Times,serif\" font-size=\"14.00\" fill=\"#000000\">RM &lt;= 6.481</text>\n<text text-anchor=\"middle\" x=\"174\" y=\"-126.8\" font-family=\"Times,serif\" font-size=\"14.00\" fill=\"#000000\">mse = 11.65</text>\n<text text-anchor=\"middle\" x=\"174\" y=\"-111.8\" font-family=\"Times,serif\" font-size=\"14.00\" fill=\"#000000\">samples = 111</text>\n<text text-anchor=\"middle\" x=\"174\" y=\"-96.8\" font-family=\"Times,serif\" font-size=\"14.00\" fill=\"#000000\">value = 24.15</text>\n</g>\n<!-- 4&#45;&gt;5 -->\n<g id=\"edge5\" class=\"edge\">\n<title>4&#45;&gt;5</title>\n<path fill=\"none\" stroke=\"#000000\" d=\"M310.8546,-198.3062C286.4291,-184.8658 257.2437,-168.8061 232.1112,-154.9766\"/>\n<polygon fill=\"#000000\" stroke=\"#000000\" points=\"233.5001,-151.746 223.0516,-149.9914 230.1254,-157.8788 233.5001,-151.746\"/>\n</g>\n<!-- 8 -->\n<g id=\"node9\" class=\"node\">\n<title>8</title>\n<polygon fill=\"#f0b78f\" stroke=\"#000000\" points=\"430,-157 296,-157 296,-89 430,-89 430,-157\"/>\n<text text-anchor=\"middle\" x=\"363\" y=\"-141.8\" font-family=\"Times,serif\" font-size=\"14.00\" fill=\"#000000\">PTRATIO &lt;= 19.45</text>\n<text text-anchor=\"middle\" x=\"363\" y=\"-126.8\" font-family=\"Times,serif\" font-size=\"14.00\" fill=\"#000000\">mse = 15.614</text>\n<text text-anchor=\"middle\" x=\"363\" y=\"-111.8\" font-family=\"Times,serif\" font-size=\"14.00\" fill=\"#000000\">samples = 43</text>\n<text text-anchor=\"middle\" x=\"363\" y=\"-96.8\" font-family=\"Times,serif\" font-size=\"14.00\" fill=\"#000000\">value = 32.237</text>\n</g>\n<!-- 4&#45;&gt;8 -->\n<g id=\"edge8\" class=\"edge\">\n<title>4&#45;&gt;8</title>\n<path fill=\"none\" stroke=\"#000000\" d=\"M363,-192.9465C363,-184.776 363,-175.9318 363,-167.3697\"/>\n<polygon fill=\"#000000\" stroke=\"#000000\" points=\"366.5001,-167.13 363,-157.13 359.5001,-167.13 366.5001,-167.13\"/>\n</g>\n<!-- 6 -->\n<g id=\"node7\" class=\"node\">\n<title>6</title>\n<polygon fill=\"#f6d5bd\" stroke=\"#000000\" points=\"104,-53 0,-53 0,0 104,0 104,-53\"/>\n<text text-anchor=\"middle\" x=\"52\" y=\"-37.8\" font-family=\"Times,serif\" font-size=\"14.00\" fill=\"#000000\">mse = 6.554</text>\n<text text-anchor=\"middle\" x=\"52\" y=\"-22.8\" font-family=\"Times,serif\" font-size=\"14.00\" fill=\"#000000\">samples = 68</text>\n<text text-anchor=\"middle\" x=\"52\" y=\"-7.8\" font-family=\"Times,serif\" font-size=\"14.00\" fill=\"#000000\">value = 22.538</text>\n</g>\n<!-- 5&#45;&gt;6 -->\n<g id=\"edge6\" class=\"edge\">\n<title>5&#45;&gt;6</title>\n<path fill=\"none\" stroke=\"#000000\" d=\"M130.9874,-88.9777C118.9476,-79.4545 105.8812,-69.1191 93.9065,-59.6473\"/>\n<polygon fill=\"#000000\" stroke=\"#000000\" points=\"95.8311,-56.7072 85.8167,-53.2485 91.4885,-62.1973 95.8311,-56.7072\"/>\n</g>\n<!-- 7 -->\n<g id=\"node8\" class=\"node\">\n<title>7</title>\n<polygon fill=\"#f4c8a9\" stroke=\"#000000\" points=\"226,-53 122,-53 122,0 226,0 226,-53\"/>\n<text text-anchor=\"middle\" x=\"174\" y=\"-37.8\" font-family=\"Times,serif\" font-size=\"14.00\" fill=\"#000000\">mse = 9.111</text>\n<text text-anchor=\"middle\" x=\"174\" y=\"-22.8\" font-family=\"Times,serif\" font-size=\"14.00\" fill=\"#000000\">samples = 43</text>\n<text text-anchor=\"middle\" x=\"174\" y=\"-7.8\" font-family=\"Times,serif\" font-size=\"14.00\" fill=\"#000000\">value = 26.698</text>\n</g>\n<!-- 5&#45;&gt;7 -->\n<g id=\"edge7\" class=\"edge\">\n<title>5&#45;&gt;7</title>\n<path fill=\"none\" stroke=\"#000000\" d=\"M174,-88.9777C174,-80.7364 174,-71.887 174,-63.5153\"/>\n<polygon fill=\"#000000\" stroke=\"#000000\" points=\"177.5001,-63.2484 174,-53.2485 170.5001,-63.2485 177.5001,-63.2484\"/>\n</g>\n<!-- 9 -->\n<g id=\"node10\" class=\"node\">\n<title>9</title>\n<polygon fill=\"#f0b68c\" stroke=\"#000000\" points=\"348,-53 244,-53 244,0 348,0 348,-53\"/>\n<text text-anchor=\"middle\" x=\"296\" y=\"-37.8\" font-family=\"Times,serif\" font-size=\"14.00\" fill=\"#000000\">mse = 12.662</text>\n<text text-anchor=\"middle\" x=\"296\" y=\"-22.8\" font-family=\"Times,serif\" font-size=\"14.00\" fill=\"#000000\">samples = 40</text>\n<text text-anchor=\"middle\" x=\"296\" y=\"-7.8\" font-family=\"Times,serif\" font-size=\"14.00\" fill=\"#000000\">value = 32.767</text>\n</g>\n<!-- 8&#45;&gt;9 -->\n<g id=\"edge9\" class=\"edge\">\n<title>8&#45;&gt;9</title>\n<path fill=\"none\" stroke=\"#000000\" d=\"M339.3783,-88.9777C333.2113,-80.0954 326.5539,-70.5067 320.3499,-61.5711\"/>\n<polygon fill=\"#000000\" stroke=\"#000000\" points=\"323.1497,-59.4666 314.5715,-53.2485 317.3997,-63.4589 323.1497,-59.4666\"/>\n</g>\n<!-- 10 -->\n<g id=\"node11\" class=\"node\">\n<title>10</title>\n<polygon fill=\"#f5cdb1\" stroke=\"#000000\" points=\"470,-53 366,-53 366,0 470,0 470,-53\"/>\n<text text-anchor=\"middle\" x=\"418\" y=\"-37.8\" font-family=\"Times,serif\" font-size=\"14.00\" fill=\"#000000\">mse = 1.229</text>\n<text text-anchor=\"middle\" x=\"418\" y=\"-22.8\" font-family=\"Times,serif\" font-size=\"14.00\" fill=\"#000000\">samples = 3</text>\n<text text-anchor=\"middle\" x=\"418\" y=\"-7.8\" font-family=\"Times,serif\" font-size=\"14.00\" fill=\"#000000\">value = 25.167</text>\n</g>\n<!-- 8&#45;&gt;10 -->\n<g id=\"edge10\" class=\"edge\">\n<title>8&#45;&gt;10</title>\n<path fill=\"none\" stroke=\"#000000\" d=\"M382.3909,-88.9777C387.349,-80.2786 392.6933,-70.9018 397.6958,-62.1247\"/>\n<polygon fill=\"#000000\" stroke=\"#000000\" points=\"400.8438,-63.6696 402.7548,-53.2485 394.7622,-60.2033 400.8438,-63.6696\"/>\n</g>\n<!-- 12 -->\n<g id=\"node13\" class=\"node\">\n<title>12</title>\n<polygon fill=\"#e78d4b\" stroke=\"#000000\" points=\"769.5,-261 642.5,-261 642.5,-193 769.5,-193 769.5,-261\"/>\n<text text-anchor=\"middle\" x=\"706\" y=\"-245.8\" font-family=\"Times,serif\" font-size=\"14.00\" fill=\"#000000\">PTRATIO &lt;= 17.9</text>\n<text text-anchor=\"middle\" x=\"706\" y=\"-230.8\" font-family=\"Times,serif\" font-size=\"14.00\" fill=\"#000000\">mse = 17.44</text>\n<text text-anchor=\"middle\" x=\"706\" y=\"-215.8\" font-family=\"Times,serif\" font-size=\"14.00\" fill=\"#000000\">samples = 27</text>\n<text text-anchor=\"middle\" x=\"706\" y=\"-200.8\" font-family=\"Times,serif\" font-size=\"14.00\" fill=\"#000000\">value = 46.2</text>\n</g>\n<!-- 11&#45;&gt;12 -->\n<g id=\"edge12\" class=\"edge\">\n<title>11&#45;&gt;12</title>\n<path fill=\"none\" stroke=\"#000000\" d=\"M748.3714,-296.9465C743.1501,-288.3271 737.4745,-278.9579 732.0245,-269.9611\"/>\n<polygon fill=\"#000000\" stroke=\"#000000\" points=\"734.8497,-267.8697 726.6749,-261.13 728.8626,-271.4965 734.8497,-267.8697\"/>\n</g>\n<!-- 19 -->\n<g id=\"node20\" class=\"node\">\n<title>19</title>\n<polygon fill=\"#f7d7c0\" stroke=\"#000000\" points=\"876.5,-253.5 787.5,-253.5 787.5,-200.5 876.5,-200.5 876.5,-253.5\"/>\n<text text-anchor=\"middle\" x=\"832\" y=\"-238.3\" font-family=\"Times,serif\" font-size=\"14.00\" fill=\"#000000\">mse = &#45;0.0</text>\n<text text-anchor=\"middle\" x=\"832\" y=\"-223.3\" font-family=\"Times,serif\" font-size=\"14.00\" fill=\"#000000\">samples = 1</text>\n<text text-anchor=\"middle\" x=\"832\" y=\"-208.3\" font-family=\"Times,serif\" font-size=\"14.00\" fill=\"#000000\">value = 21.9</text>\n</g>\n<!-- 11&#45;&gt;19 -->\n<g id=\"edge19\" class=\"edge\">\n<title>11&#45;&gt;19</title>\n<path fill=\"none\" stroke=\"#000000\" d=\"M789.6286,-296.9465C796.3678,-285.8215 803.8637,-273.4473 810.6545,-262.237\"/>\n<polygon fill=\"#000000\" stroke=\"#000000\" points=\"813.7339,-263.9087 815.9216,-253.5422 807.7467,-260.2818 813.7339,-263.9087\"/>\n</g>\n<!-- 13 -->\n<g id=\"node14\" class=\"node\">\n<title>13</title>\n<polygon fill=\"#e78946\" stroke=\"#000000\" points=\"695,-157 591,-157 591,-89 695,-89 695,-157\"/>\n<text text-anchor=\"middle\" x=\"643\" y=\"-141.8\" font-family=\"Times,serif\" font-size=\"14.00\" fill=\"#000000\">RM &lt;= 7.783</text>\n<text text-anchor=\"middle\" x=\"643\" y=\"-126.8\" font-family=\"Times,serif\" font-size=\"14.00\" fill=\"#000000\">mse = 10.897</text>\n<text text-anchor=\"middle\" x=\"643\" y=\"-111.8\" font-family=\"Times,serif\" font-size=\"14.00\" fill=\"#000000\">samples = 23</text>\n<text text-anchor=\"middle\" x=\"643\" y=\"-96.8\" font-family=\"Times,serif\" font-size=\"14.00\" fill=\"#000000\">value = 47.257</text>\n</g>\n<!-- 12&#45;&gt;13 -->\n<g id=\"edge13\" class=\"edge\">\n<title>12&#45;&gt;13</title>\n<path fill=\"none\" stroke=\"#000000\" d=\"M685.3714,-192.9465C680.1501,-184.3271 674.4745,-174.9579 669.0245,-165.9611\"/>\n<polygon fill=\"#000000\" stroke=\"#000000\" points=\"671.8497,-163.8697 663.6749,-157.13 665.8626,-167.4965 671.8497,-163.8697\"/>\n</g>\n<!-- 16 -->\n<g id=\"node17\" class=\"node\">\n<title>16</title>\n<polygon fill=\"#eb9f69\" stroke=\"#000000\" points=\"823,-157 713,-157 713,-89 823,-89 823,-157\"/>\n<text text-anchor=\"middle\" x=\"768\" y=\"-141.8\" font-family=\"Times,serif\" font-size=\"14.00\" fill=\"#000000\">LSTAT &lt;= 3.89</text>\n<text text-anchor=\"middle\" x=\"768\" y=\"-126.8\" font-family=\"Times,serif\" font-size=\"14.00\" fill=\"#000000\">mse = 11.737</text>\n<text text-anchor=\"middle\" x=\"768\" y=\"-111.8\" font-family=\"Times,serif\" font-size=\"14.00\" fill=\"#000000\">samples = 4</text>\n<text text-anchor=\"middle\" x=\"768\" y=\"-96.8\" font-family=\"Times,serif\" font-size=\"14.00\" fill=\"#000000\">value = 40.125</text>\n</g>\n<!-- 12&#45;&gt;16 -->\n<g id=\"edge16\" class=\"edge\">\n<title>12&#45;&gt;16</title>\n<path fill=\"none\" stroke=\"#000000\" d=\"M726.3011,-192.9465C731.4396,-184.3271 737.0251,-174.9579 742.3886,-165.9611\"/>\n<polygon fill=\"#000000\" stroke=\"#000000\" points=\"745.5389,-167.5117 747.6533,-157.13 739.5263,-163.9272 745.5389,-167.5117\"/>\n</g>\n<!-- 14 -->\n<g id=\"node15\" class=\"node\">\n<title>14</title>\n<polygon fill=\"#e99355\" stroke=\"#000000\" points=\"577.5,-53 488.5,-53 488.5,0 577.5,0 577.5,-53\"/>\n<text text-anchor=\"middle\" x=\"533\" y=\"-37.8\" font-family=\"Times,serif\" font-size=\"14.00\" fill=\"#000000\">mse = 9.229</text>\n<text text-anchor=\"middle\" x=\"533\" y=\"-22.8\" font-family=\"Times,serif\" font-size=\"14.00\" fill=\"#000000\">samples = 7</text>\n<text text-anchor=\"middle\" x=\"533\" y=\"-7.8\" font-family=\"Times,serif\" font-size=\"14.00\" fill=\"#000000\">value = 44.2</text>\n</g>\n<!-- 13&#45;&gt;14 -->\n<g id=\"edge14\" class=\"edge\">\n<title>13&#45;&gt;14</title>\n<path fill=\"none\" stroke=\"#000000\" d=\"M604.2181,-88.9777C593.467,-79.546 581.8078,-69.3178 571.0962,-59.9208\"/>\n<polygon fill=\"#000000\" stroke=\"#000000\" points=\"573.316,-57.2122 563.4905,-53.2485 568.6996,-62.4743 573.316,-57.2122\"/>\n</g>\n<!-- 15 -->\n<g id=\"node16\" class=\"node\">\n<title>15</title>\n<polygon fill=\"#e68540\" stroke=\"#000000\" points=\"700,-53 596,-53 596,0 700,0 700,-53\"/>\n<text text-anchor=\"middle\" x=\"648\" y=\"-37.8\" font-family=\"Times,serif\" font-size=\"14.00\" fill=\"#000000\">mse = 5.752</text>\n<text text-anchor=\"middle\" x=\"648\" y=\"-22.8\" font-family=\"Times,serif\" font-size=\"14.00\" fill=\"#000000\">samples = 16</text>\n<text text-anchor=\"middle\" x=\"648\" y=\"-7.8\" font-family=\"Times,serif\" font-size=\"14.00\" fill=\"#000000\">value = 48.594</text>\n</g>\n<!-- 13&#45;&gt;15 -->\n<g id=\"edge15\" class=\"edge\">\n<title>13&#45;&gt;15</title>\n<path fill=\"none\" stroke=\"#000000\" d=\"M644.7628,-88.9777C645.1946,-80.6449 645.6585,-71.6903 646.0966,-63.2364\"/>\n<polygon fill=\"#000000\" stroke=\"#000000\" points=\"649.5918,-63.4162 646.6141,-53.2485 642.6012,-63.0539 649.5918,-63.4162\"/>\n</g>\n<!-- 17 -->\n<g id=\"node18\" class=\"node\">\n<title>17</title>\n<polygon fill=\"#e99659\" stroke=\"#000000\" points=\"807.5,-53 718.5,-53 718.5,0 807.5,0 807.5,-53\"/>\n<text text-anchor=\"middle\" x=\"763\" y=\"-37.8\" font-family=\"Times,serif\" font-size=\"14.00\" fill=\"#000000\">mse = 0.25</text>\n<text text-anchor=\"middle\" x=\"763\" y=\"-22.8\" font-family=\"Times,serif\" font-size=\"14.00\" fill=\"#000000\">samples = 2</text>\n<text text-anchor=\"middle\" x=\"763\" y=\"-7.8\" font-family=\"Times,serif\" font-size=\"14.00\" fill=\"#000000\">value = 43.3</text>\n</g>\n<!-- 16&#45;&gt;17 -->\n<g id=\"edge17\" class=\"edge\">\n<title>16&#45;&gt;17</title>\n<path fill=\"none\" stroke=\"#000000\" d=\"M766.2372,-88.9777C765.8054,-80.6449 765.3415,-71.6903 764.9034,-63.2364\"/>\n<polygon fill=\"#000000\" stroke=\"#000000\" points=\"768.3988,-63.0539 764.3859,-53.2485 761.4082,-63.4162 768.3988,-63.0539\"/>\n</g>\n<!-- 18 -->\n<g id=\"node19\" class=\"node\">\n<title>18</title>\n<polygon fill=\"#eda978\" stroke=\"#000000\" points=\"922.5,-53 825.5,-53 825.5,0 922.5,0 922.5,-53\"/>\n<text text-anchor=\"middle\" x=\"874\" y=\"-37.8\" font-family=\"Times,serif\" font-size=\"14.00\" fill=\"#000000\">mse = 3.062</text>\n<text text-anchor=\"middle\" x=\"874\" y=\"-22.8\" font-family=\"Times,serif\" font-size=\"14.00\" fill=\"#000000\">samples = 2</text>\n<text text-anchor=\"middle\" x=\"874\" y=\"-7.8\" font-family=\"Times,serif\" font-size=\"14.00\" fill=\"#000000\">value = 36.95</text>\n</g>\n<!-- 16&#45;&gt;18 -->\n<g id=\"edge18\" class=\"edge\">\n<title>16&#45;&gt;18</title>\n<path fill=\"none\" stroke=\"#000000\" d=\"M805.3716,-88.9777C815.6312,-79.6376 826.7489,-69.5163 836.9882,-60.1947\"/>\n<polygon fill=\"#000000\" stroke=\"#000000\" points=\"839.5798,-62.5686 844.6183,-53.2485 834.8674,-57.3923 839.5798,-62.5686\"/>\n</g>\n<!-- 21 -->\n<g id=\"node22\" class=\"node\">\n<title>21</title>\n<polygon fill=\"#f8dcc8\" stroke=\"#000000\" points=\"1429,-365 1329,-365 1329,-297 1429,-297 1429,-365\"/>\n<text text-anchor=\"middle\" x=\"1379\" y=\"-349.8\" font-family=\"Times,serif\" font-size=\"14.00\" fill=\"#000000\">B &lt;= 116.025</text>\n<text text-anchor=\"middle\" x=\"1379\" y=\"-334.8\" font-family=\"Times,serif\" font-size=\"14.00\" fill=\"#000000\">mse = 11.245</text>\n<text text-anchor=\"middle\" x=\"1379\" y=\"-319.8\" font-family=\"Times,serif\" font-size=\"14.00\" fill=\"#000000\">samples = 137</text>\n<text text-anchor=\"middle\" x=\"1379\" y=\"-304.8\" font-family=\"Times,serif\" font-size=\"14.00\" fill=\"#000000\">value = 20.32</text>\n</g>\n<!-- 20&#45;&gt;21 -->\n<g id=\"edge21\" class=\"edge\">\n<title>20&#45;&gt;21</title>\n<path fill=\"none\" stroke=\"#000000\" d=\"M1379,-400.9465C1379,-392.776 1379,-383.9318 1379,-375.3697\"/>\n<polygon fill=\"#000000\" stroke=\"#000000\" points=\"1382.5001,-375.13 1379,-365.13 1375.5001,-375.13 1382.5001,-375.13\"/>\n</g>\n<!-- 36 -->\n<g id=\"node37\" class=\"node\">\n<title>36</title>\n<polygon fill=\"#fceee5\" stroke=\"#000000\" points=\"2124,-365 2018,-365 2018,-297 2124,-297 2124,-365\"/>\n<text text-anchor=\"middle\" x=\"2071\" y=\"-349.8\" font-family=\"Times,serif\" font-size=\"14.00\" fill=\"#000000\">NOX &lt;= 0.603</text>\n<text text-anchor=\"middle\" x=\"2071\" y=\"-334.8\" font-family=\"Times,serif\" font-size=\"14.00\" fill=\"#000000\">mse = 18.925</text>\n<text text-anchor=\"middle\" x=\"2071\" y=\"-319.8\" font-family=\"Times,serif\" font-size=\"14.00\" fill=\"#000000\">samples = 132</text>\n<text text-anchor=\"middle\" x=\"2071\" y=\"-304.8\" font-family=\"Times,serif\" font-size=\"14.00\" fill=\"#000000\">value = 14.32</text>\n</g>\n<!-- 20&#45;&gt;36 -->\n<g id=\"edge36\" class=\"edge\">\n<title>20&#45;&gt;36</title>\n<path fill=\"none\" stroke=\"#000000\" d=\"M1441.6309,-425.5873C1572.9529,-405.851 1875.8505,-360.3288 2007.7285,-340.509\"/>\n<polygon fill=\"#000000\" stroke=\"#000000\" points=\"2008.3125,-343.9606 2017.6813,-339.0132 2007.2721,-337.0384 2008.3125,-343.9606\"/>\n</g>\n<!-- 22 -->\n<g id=\"node23\" class=\"node\">\n<title>22</title>\n<polygon fill=\"#fcf0e8\" stroke=\"#000000\" points=\"1354.5,-261 1229.5,-261 1229.5,-193 1354.5,-193 1354.5,-261\"/>\n<text text-anchor=\"middle\" x=\"1292\" y=\"-245.8\" font-family=\"Times,serif\" font-size=\"14.00\" fill=\"#000000\">LSTAT &lt;= 13.275</text>\n<text text-anchor=\"middle\" x=\"1292\" y=\"-230.8\" font-family=\"Times,serif\" font-size=\"14.00\" fill=\"#000000\">mse = 9.256</text>\n<text text-anchor=\"middle\" x=\"1292\" y=\"-215.8\" font-family=\"Times,serif\" font-size=\"14.00\" fill=\"#000000\">samples = 6</text>\n<text text-anchor=\"middle\" x=\"1292\" y=\"-200.8\" font-family=\"Times,serif\" font-size=\"14.00\" fill=\"#000000\">value = 13.75</text>\n</g>\n<!-- 21&#45;&gt;22 -->\n<g id=\"edge22\" class=\"edge\">\n<title>21&#45;&gt;22</title>\n<path fill=\"none\" stroke=\"#000000\" d=\"M1350.5129,-296.9465C1343.0021,-287.968 1334.8105,-278.1758 1326.9995,-268.8385\"/>\n<polygon fill=\"#000000\" stroke=\"#000000\" points=\"1329.652,-266.5544 1320.5511,-261.13 1324.2829,-271.0459 1329.652,-266.5544\"/>\n</g>\n<!-- 29 -->\n<g id=\"node30\" class=\"node\">\n<title>29</title>\n<polygon fill=\"#f8dbc7\" stroke=\"#000000\" points=\"1518,-261 1414,-261 1414,-193 1518,-193 1518,-261\"/>\n<text text-anchor=\"middle\" x=\"1466\" y=\"-245.8\" font-family=\"Times,serif\" font-size=\"14.00\" fill=\"#000000\">RM &lt;= 6.797</text>\n<text text-anchor=\"middle\" x=\"1466\" y=\"-230.8\" font-family=\"Times,serif\" font-size=\"14.00\" fill=\"#000000\">mse = 9.269</text>\n<text text-anchor=\"middle\" x=\"1466\" y=\"-215.8\" font-family=\"Times,serif\" font-size=\"14.00\" fill=\"#000000\">samples = 131</text>\n<text text-anchor=\"middle\" x=\"1466\" y=\"-200.8\" font-family=\"Times,serif\" font-size=\"14.00\" fill=\"#000000\">value = 20.621</text>\n</g>\n<!-- 21&#45;&gt;29 -->\n<g id=\"edge29\" class=\"edge\">\n<title>21&#45;&gt;29</title>\n<path fill=\"none\" stroke=\"#000000\" d=\"M1407.4871,-296.9465C1414.9979,-287.968 1423.1895,-278.1758 1431.0005,-268.8385\"/>\n<polygon fill=\"#000000\" stroke=\"#000000\" points=\"1433.7171,-271.0459 1437.4489,-261.13 1428.348,-266.5544 1433.7171,-271.0459\"/>\n</g>\n<!-- 23 -->\n<g id=\"node24\" class=\"node\">\n<title>23</title>\n<polygon fill=\"#fae7da\" stroke=\"#000000\" points=\"1151.5,-157 1040.5,-157 1040.5,-89 1151.5,-89 1151.5,-157\"/>\n<text text-anchor=\"middle\" x=\"1096\" y=\"-141.8\" font-family=\"Times,serif\" font-size=\"14.00\" fill=\"#000000\">CRIM &lt;= 3.336</text>\n<text text-anchor=\"middle\" x=\"1096\" y=\"-126.8\" font-family=\"Times,serif\" font-size=\"14.00\" fill=\"#000000\">mse = 2.269</text>\n<text text-anchor=\"middle\" x=\"1096\" y=\"-111.8\" font-family=\"Times,serif\" font-size=\"14.00\" fill=\"#000000\">samples = 3</text>\n<text text-anchor=\"middle\" x=\"1096\" y=\"-96.8\" font-family=\"Times,serif\" font-size=\"14.00\" fill=\"#000000\">value = 16.567</text>\n</g>\n<!-- 22&#45;&gt;23 -->\n<g id=\"edge23\" class=\"edge\">\n<title>22&#45;&gt;23</title>\n<path fill=\"none\" stroke=\"#000000\" d=\"M1229.4455,-193.8078C1207.4875,-182.1566 1182.7857,-169.0496 1160.6585,-157.3086\"/>\n<polygon fill=\"#000000\" stroke=\"#000000\" points=\"1162.1472,-154.1363 1151.6732,-152.5409 1158.8661,-160.3198 1162.1472,-154.1363\"/>\n</g>\n<!-- 26 -->\n<g id=\"node27\" class=\"node\">\n<title>26</title>\n<polygon fill=\"#fef9f5\" stroke=\"#000000\" points=\"1344,-157 1240,-157 1240,-89 1344,-89 1344,-157\"/>\n<text text-anchor=\"middle\" x=\"1292\" y=\"-141.8\" font-family=\"Times,serif\" font-size=\"14.00\" fill=\"#000000\">AGE &lt;= 86.85</text>\n<text text-anchor=\"middle\" x=\"1292\" y=\"-126.8\" font-family=\"Times,serif\" font-size=\"14.00\" fill=\"#000000\">mse = 0.376</text>\n<text text-anchor=\"middle\" x=\"1292\" y=\"-111.8\" font-family=\"Times,serif\" font-size=\"14.00\" fill=\"#000000\">samples = 3</text>\n<text text-anchor=\"middle\" x=\"1292\" y=\"-96.8\" font-family=\"Times,serif\" font-size=\"14.00\" fill=\"#000000\">value = 10.933</text>\n</g>\n<!-- 22&#45;&gt;26 -->\n<g id=\"edge26\" class=\"edge\">\n<title>22&#45;&gt;26</title>\n<path fill=\"none\" stroke=\"#000000\" d=\"M1292,-192.9465C1292,-184.776 1292,-175.9318 1292,-167.3697\"/>\n<polygon fill=\"#000000\" stroke=\"#000000\" points=\"1295.5001,-167.13 1292,-157.13 1288.5001,-167.13 1295.5001,-167.13\"/>\n</g>\n<!-- 24 -->\n<g id=\"node25\" class=\"node\">\n<title>24</title>\n<polygon fill=\"#f9e1d0\" stroke=\"#000000\" points=\"1029.5,-53 940.5,-53 940.5,0 1029.5,0 1029.5,-53\"/>\n<text text-anchor=\"middle\" x=\"985\" y=\"-37.8\" font-family=\"Times,serif\" font-size=\"14.00\" fill=\"#000000\">mse = 0.0</text>\n<text text-anchor=\"middle\" x=\"985\" y=\"-22.8\" font-family=\"Times,serif\" font-size=\"14.00\" fill=\"#000000\">samples = 1</text>\n<text text-anchor=\"middle\" x=\"985\" y=\"-7.8\" font-family=\"Times,serif\" font-size=\"14.00\" fill=\"#000000\">value = 18.6</text>\n</g>\n<!-- 23&#45;&gt;24 -->\n<g id=\"edge24\" class=\"edge\">\n<title>23&#45;&gt;24</title>\n<path fill=\"none\" stroke=\"#000000\" d=\"M1056.8656,-88.9777C1046.0167,-79.546 1034.2516,-69.3178 1023.4426,-59.9208\"/>\n<polygon fill=\"#000000\" stroke=\"#000000\" points=\"1025.6108,-57.1681 1015.7677,-53.2485 1021.0181,-62.4508 1025.6108,-57.1681\"/>\n</g>\n<!-- 25 -->\n<g id=\"node26\" class=\"node\">\n<title>25</title>\n<polygon fill=\"#fbebdf\" stroke=\"#000000\" points=\"1144.5,-53 1047.5,-53 1047.5,0 1144.5,0 1144.5,-53\"/>\n<text text-anchor=\"middle\" x=\"1096\" y=\"-37.8\" font-family=\"Times,serif\" font-size=\"14.00\" fill=\"#000000\">mse = 0.303</text>\n<text text-anchor=\"middle\" x=\"1096\" y=\"-22.8\" font-family=\"Times,serif\" font-size=\"14.00\" fill=\"#000000\">samples = 2</text>\n<text text-anchor=\"middle\" x=\"1096\" y=\"-7.8\" font-family=\"Times,serif\" font-size=\"14.00\" fill=\"#000000\">value = 15.55</text>\n</g>\n<!-- 23&#45;&gt;25 -->\n<g id=\"edge25\" class=\"edge\">\n<title>23&#45;&gt;25</title>\n<path fill=\"none\" stroke=\"#000000\" d=\"M1096,-88.9777C1096,-80.7364 1096,-71.887 1096,-63.5153\"/>\n<polygon fill=\"#000000\" stroke=\"#000000\" points=\"1099.5001,-63.2484 1096,-53.2485 1092.5001,-63.2485 1099.5001,-63.2484\"/>\n</g>\n<!-- 27 -->\n<g id=\"node28\" class=\"node\">\n<title>27</title>\n<polygon fill=\"#fefaf7\" stroke=\"#000000\" points=\"1259.5,-53 1162.5,-53 1162.5,0 1259.5,0 1259.5,-53\"/>\n<text text-anchor=\"middle\" x=\"1211\" y=\"-37.8\" font-family=\"Times,serif\" font-size=\"14.00\" fill=\"#000000\">mse = 0.123</text>\n<text text-anchor=\"middle\" x=\"1211\" y=\"-22.8\" font-family=\"Times,serif\" font-size=\"14.00\" fill=\"#000000\">samples = 2</text>\n<text text-anchor=\"middle\" x=\"1211\" y=\"-7.8\" font-family=\"Times,serif\" font-size=\"14.00\" fill=\"#000000\">value = 10.55</text>\n</g>\n<!-- 26&#45;&gt;27 -->\n<g id=\"edge27\" class=\"edge\">\n<title>26&#45;&gt;27</title>\n<path fill=\"none\" stroke=\"#000000\" d=\"M1263.4424,-88.9777C1255.8331,-79.9123 1247.6061,-70.111 1239.9747,-61.0192\"/>\n<polygon fill=\"#000000\" stroke=\"#000000\" points=\"1242.562,-58.6577 1233.4521,-53.2485 1237.2005,-63.1581 1242.562,-58.6577\"/>\n</g>\n<!-- 28 -->\n<g id=\"node29\" class=\"node\">\n<title>28</title>\n<polygon fill=\"#fdf6f1\" stroke=\"#000000\" points=\"1366.5,-53 1277.5,-53 1277.5,0 1366.5,0 1366.5,-53\"/>\n<text text-anchor=\"middle\" x=\"1322\" y=\"-37.8\" font-family=\"Times,serif\" font-size=\"14.00\" fill=\"#000000\">mse = 0.0</text>\n<text text-anchor=\"middle\" x=\"1322\" y=\"-22.8\" font-family=\"Times,serif\" font-size=\"14.00\" fill=\"#000000\">samples = 1</text>\n<text text-anchor=\"middle\" x=\"1322\" y=\"-7.8\" font-family=\"Times,serif\" font-size=\"14.00\" fill=\"#000000\">value = 11.7</text>\n</g>\n<!-- 26&#45;&gt;28 -->\n<g id=\"edge28\" class=\"edge\">\n<title>26&#45;&gt;28</title>\n<path fill=\"none\" stroke=\"#000000\" d=\"M1302.5769,-88.9777C1305.1959,-80.5533 1308.0124,-71.4934 1310.6659,-62.9579\"/>\n<polygon fill=\"#000000\" stroke=\"#000000\" points=\"1314.0579,-63.8367 1313.6844,-53.2485 1307.3735,-61.7586 1314.0579,-63.8367\"/>\n</g>\n<!-- 30 -->\n<g id=\"node31\" class=\"node\">\n<title>30</title>\n<polygon fill=\"#f8dcc8\" stroke=\"#000000\" points=\"1521,-157 1411,-157 1411,-89 1521,-89 1521,-157\"/>\n<text text-anchor=\"middle\" x=\"1466\" y=\"-141.8\" font-family=\"Times,serif\" font-size=\"14.00\" fill=\"#000000\">LSTAT &lt;= 14.4</text>\n<text text-anchor=\"middle\" x=\"1466\" y=\"-126.8\" font-family=\"Times,serif\" font-size=\"14.00\" fill=\"#000000\">mse = 6.652</text>\n<text text-anchor=\"middle\" x=\"1466\" y=\"-111.8\" font-family=\"Times,serif\" font-size=\"14.00\" fill=\"#000000\">samples = 125</text>\n<text text-anchor=\"middle\" x=\"1466\" y=\"-96.8\" font-family=\"Times,serif\" font-size=\"14.00\" fill=\"#000000\">value = 20.363</text>\n</g>\n<!-- 29&#45;&gt;30 -->\n<g id=\"edge30\" class=\"edge\">\n<title>29&#45;&gt;30</title>\n<path fill=\"none\" stroke=\"#000000\" d=\"M1466,-192.9465C1466,-184.776 1466,-175.9318 1466,-167.3697\"/>\n<polygon fill=\"#000000\" stroke=\"#000000\" points=\"1469.5001,-167.13 1466,-157.13 1462.5001,-167.13 1469.5001,-167.13\"/>\n</g>\n<!-- 33 -->\n<g id=\"node34\" class=\"node\">\n<title>33</title>\n<polygon fill=\"#f4cbad\" stroke=\"#000000\" points=\"1713.5,-157 1616.5,-157 1616.5,-89 1713.5,-89 1713.5,-157\"/>\n<text text-anchor=\"middle\" x=\"1665\" y=\"-141.8\" font-family=\"Times,serif\" font-size=\"14.00\" fill=\"#000000\">AGE &lt;= 96.2</text>\n<text text-anchor=\"middle\" x=\"1665\" y=\"-126.8\" font-family=\"Times,serif\" font-size=\"14.00\" fill=\"#000000\">mse = 33.463</text>\n<text text-anchor=\"middle\" x=\"1665\" y=\"-111.8\" font-family=\"Times,serif\" font-size=\"14.00\" fill=\"#000000\">samples = 6</text>\n<text text-anchor=\"middle\" x=\"1665\" y=\"-96.8\" font-family=\"Times,serif\" font-size=\"14.00\" fill=\"#000000\">value = 26.0</text>\n</g>\n<!-- 29&#45;&gt;33 -->\n<g id=\"edge33\" class=\"edge\">\n<title>29&#45;&gt;33</title>\n<path fill=\"none\" stroke=\"#000000\" d=\"M1518.025,-199.8111C1545.4582,-185.4741 1579.1804,-167.8504 1607.4008,-153.1021\"/>\n<polygon fill=\"#000000\" stroke=\"#000000\" points=\"1609.1134,-156.1563 1616.3549,-148.4225 1605.8711,-149.9524 1609.1134,-156.1563\"/>\n</g>\n<!-- 31 -->\n<g id=\"node32\" class=\"node\">\n<title>31</title>\n<polygon fill=\"#f7dac5\" stroke=\"#000000\" points=\"1489,-53 1385,-53 1385,0 1489,0 1489,-53\"/>\n<text text-anchor=\"middle\" x=\"1437\" y=\"-37.8\" font-family=\"Times,serif\" font-size=\"14.00\" fill=\"#000000\">mse = 5.979</text>\n<text text-anchor=\"middle\" x=\"1437\" y=\"-22.8\" font-family=\"Times,serif\" font-size=\"14.00\" fill=\"#000000\">samples = 99</text>\n<text text-anchor=\"middle\" x=\"1437\" y=\"-7.8\" font-family=\"Times,serif\" font-size=\"14.00\" fill=\"#000000\">value = 20.879</text>\n</g>\n<!-- 30&#45;&gt;31 -->\n<g id=\"edge31\" class=\"edge\">\n<title>30&#45;&gt;31</title>\n<path fill=\"none\" stroke=\"#000000\" d=\"M1455.7757,-88.9777C1453.244,-80.5533 1450.5213,-71.4934 1447.9563,-62.9579\"/>\n<polygon fill=\"#000000\" stroke=\"#000000\" points=\"1451.2684,-61.818 1445.0384,-53.2485 1444.5646,-63.8327 1451.2684,-61.818\"/>\n</g>\n<!-- 32 -->\n<g id=\"node33\" class=\"node\">\n<title>32</title>\n<polygon fill=\"#f9e2d1\" stroke=\"#000000\" points=\"1599,-53 1507,-53 1507,0 1599,0 1599,-53\"/>\n<text text-anchor=\"middle\" x=\"1553\" y=\"-37.8\" font-family=\"Times,serif\" font-size=\"14.00\" fill=\"#000000\">mse = 4.347</text>\n<text text-anchor=\"middle\" x=\"1553\" y=\"-22.8\" font-family=\"Times,serif\" font-size=\"14.00\" fill=\"#000000\">samples = 26</text>\n<text text-anchor=\"middle\" x=\"1553\" y=\"-7.8\" font-family=\"Times,serif\" font-size=\"14.00\" fill=\"#000000\">value = 18.4</text>\n</g>\n<!-- 30&#45;&gt;32 -->\n<g id=\"edge32\" class=\"edge\">\n<title>30&#45;&gt;32</title>\n<path fill=\"none\" stroke=\"#000000\" d=\"M1496.6729,-88.9777C1504.9285,-79.8207 1513.8609,-69.9129 1522.1272,-60.744\"/>\n<polygon fill=\"#000000\" stroke=\"#000000\" points=\"1524.7883,-63.0193 1528.8848,-53.2485 1519.5892,-58.3321 1524.7883,-63.0193\"/>\n</g>\n<!-- 34 -->\n<g id=\"node35\" class=\"node\">\n<title>34</title>\n<polygon fill=\"#f3c4a2\" stroke=\"#000000\" points=\"1712.5,-53 1617.5,-53 1617.5,0 1712.5,0 1712.5,-53\"/>\n<text text-anchor=\"middle\" x=\"1665\" y=\"-37.8\" font-family=\"Times,serif\" font-size=\"14.00\" fill=\"#000000\">mse = 11.116</text>\n<text text-anchor=\"middle\" x=\"1665\" y=\"-22.8\" font-family=\"Times,serif\" font-size=\"14.00\" fill=\"#000000\">samples = 5</text>\n<text text-anchor=\"middle\" x=\"1665\" y=\"-7.8\" font-family=\"Times,serif\" font-size=\"14.00\" fill=\"#000000\">value = 28.2</text>\n</g>\n<!-- 33&#45;&gt;34 -->\n<g id=\"edge34\" class=\"edge\">\n<title>33&#45;&gt;34</title>\n<path fill=\"none\" stroke=\"#000000\" d=\"M1665,-88.9777C1665,-80.7364 1665,-71.887 1665,-63.5153\"/>\n<polygon fill=\"#000000\" stroke=\"#000000\" points=\"1668.5001,-63.2484 1665,-53.2485 1661.5001,-63.2485 1668.5001,-63.2484\"/>\n</g>\n<!-- 35 -->\n<g id=\"node36\" class=\"node\">\n<title>35</title>\n<polygon fill=\"#fbece2\" stroke=\"#000000\" points=\"1819.5,-53 1730.5,-53 1730.5,0 1819.5,0 1819.5,-53\"/>\n<text text-anchor=\"middle\" x=\"1775\" y=\"-37.8\" font-family=\"Times,serif\" font-size=\"14.00\" fill=\"#000000\">mse = 0.0</text>\n<text text-anchor=\"middle\" x=\"1775\" y=\"-22.8\" font-family=\"Times,serif\" font-size=\"14.00\" fill=\"#000000\">samples = 1</text>\n<text text-anchor=\"middle\" x=\"1775\" y=\"-7.8\" font-family=\"Times,serif\" font-size=\"14.00\" fill=\"#000000\">value = 15.0</text>\n</g>\n<!-- 33&#45;&gt;35 -->\n<g id=\"edge35\" class=\"edge\">\n<title>33&#45;&gt;35</title>\n<path fill=\"none\" stroke=\"#000000\" d=\"M1703.7819,-88.9777C1714.533,-79.546 1726.1922,-69.3178 1736.9038,-59.9208\"/>\n<polygon fill=\"#000000\" stroke=\"#000000\" points=\"1739.3004,-62.4743 1744.5095,-53.2485 1734.684,-57.2122 1739.3004,-62.4743\"/>\n</g>\n<!-- 37 -->\n<g id=\"node38\" class=\"node\">\n<title>37</title>\n<polygon fill=\"#f9e4d4\" stroke=\"#000000\" points=\"2126.5,-261 2015.5,-261 2015.5,-193 2126.5,-193 2126.5,-261\"/>\n<text text-anchor=\"middle\" x=\"2071\" y=\"-245.8\" font-family=\"Times,serif\" font-size=\"14.00\" fill=\"#000000\">CRIM &lt;= 0.593</text>\n<text text-anchor=\"middle\" x=\"2071\" y=\"-230.8\" font-family=\"Times,serif\" font-size=\"14.00\" fill=\"#000000\">mse = 13.176</text>\n<text text-anchor=\"middle\" x=\"2071\" y=\"-215.8\" font-family=\"Times,serif\" font-size=\"14.00\" fill=\"#000000\">samples = 46</text>\n<text text-anchor=\"middle\" x=\"2071\" y=\"-200.8\" font-family=\"Times,serif\" font-size=\"14.00\" fill=\"#000000\">value = 17.798</text>\n</g>\n<!-- 36&#45;&gt;37 -->\n<g id=\"edge37\" class=\"edge\">\n<title>36&#45;&gt;37</title>\n<path fill=\"none\" stroke=\"#000000\" d=\"M2071,-296.9465C2071,-288.776 2071,-279.9318 2071,-271.3697\"/>\n<polygon fill=\"#000000\" stroke=\"#000000\" points=\"2074.5001,-271.13 2071,-261.13 2067.5001,-271.13 2074.5001,-271.13\"/>\n</g>\n<!-- 44 -->\n<g id=\"node45\" class=\"node\">\n<title>44</title>\n<polygon fill=\"#fdf4ee\" stroke=\"#000000\" points=\"2473.5,-261 2354.5,-261 2354.5,-193 2473.5,-193 2473.5,-261\"/>\n<text text-anchor=\"middle\" x=\"2414\" y=\"-245.8\" font-family=\"Times,serif\" font-size=\"14.00\" fill=\"#000000\">CRIM &lt;= 10.319</text>\n<text text-anchor=\"middle\" x=\"2414\" y=\"-230.8\" font-family=\"Times,serif\" font-size=\"14.00\" fill=\"#000000\">mse = 12.068</text>\n<text text-anchor=\"middle\" x=\"2414\" y=\"-215.8\" font-family=\"Times,serif\" font-size=\"14.00\" fill=\"#000000\">samples = 86</text>\n<text text-anchor=\"middle\" x=\"2414\" y=\"-200.8\" font-family=\"Times,serif\" font-size=\"14.00\" fill=\"#000000\">value = 12.459</text>\n</g>\n<!-- 36&#45;&gt;44 -->\n<g id=\"edge44\" class=\"edge\">\n<title>36&#45;&gt;44</title>\n<path fill=\"none\" stroke=\"#000000\" d=\"M2124.2174,-314.8641C2183.46,-296.9013 2279.4177,-267.8063 2344.5359,-248.062\"/>\n<polygon fill=\"#000000\" stroke=\"#000000\" points=\"2345.7572,-251.3491 2354.3114,-245.098 2343.726,-244.6503 2345.7572,-251.3491\"/>\n</g>\n<!-- 38 -->\n<g id=\"node39\" class=\"node\">\n<title>38</title>\n<polygon fill=\"#f8dfcc\" stroke=\"#000000\" points=\"2062,-157 1958,-157 1958,-89 2062,-89 2062,-157\"/>\n<text text-anchor=\"middle\" x=\"2010\" y=\"-141.8\" font-family=\"Times,serif\" font-size=\"14.00\" fill=\"#000000\">TAX &lt;= 254.5</text>\n<text text-anchor=\"middle\" x=\"2010\" y=\"-126.8\" font-family=\"Times,serif\" font-size=\"14.00\" fill=\"#000000\">mse = 8.028</text>\n<text text-anchor=\"middle\" x=\"2010\" y=\"-111.8\" font-family=\"Times,serif\" font-size=\"14.00\" fill=\"#000000\">samples = 25</text>\n<text text-anchor=\"middle\" x=\"2010\" y=\"-96.8\" font-family=\"Times,serif\" font-size=\"14.00\" fill=\"#000000\">value = 19.496</text>\n</g>\n<!-- 37&#45;&gt;38 -->\n<g id=\"edge38\" class=\"edge\">\n<title>37&#45;&gt;38</title>\n<path fill=\"none\" stroke=\"#000000\" d=\"M2051.0263,-192.9465C2045.9707,-184.3271 2040.4753,-174.9579 2035.1983,-165.9611\"/>\n<polygon fill=\"#000000\" stroke=\"#000000\" points=\"2038.0969,-163.985 2030.0186,-157.13 2032.0589,-167.5265 2038.0969,-163.985\"/>\n</g>\n<!-- 41 -->\n<g id=\"node42\" class=\"node\">\n<title>41</title>\n<polygon fill=\"#fbeade\" stroke=\"#000000\" points=\"2184,-157 2080,-157 2080,-89 2184,-89 2184,-157\"/>\n<text text-anchor=\"middle\" x=\"2132\" y=\"-141.8\" font-family=\"Times,serif\" font-size=\"14.00\" fill=\"#000000\">RM &lt;= 6.843</text>\n<text text-anchor=\"middle\" x=\"2132\" y=\"-126.8\" font-family=\"Times,serif\" font-size=\"14.00\" fill=\"#000000\">mse = 11.784</text>\n<text text-anchor=\"middle\" x=\"2132\" y=\"-111.8\" font-family=\"Times,serif\" font-size=\"14.00\" fill=\"#000000\">samples = 21</text>\n<text text-anchor=\"middle\" x=\"2132\" y=\"-96.8\" font-family=\"Times,serif\" font-size=\"14.00\" fill=\"#000000\">value = 15.776</text>\n</g>\n<!-- 37&#45;&gt;41 -->\n<g id=\"edge41\" class=\"edge\">\n<title>37&#45;&gt;41</title>\n<path fill=\"none\" stroke=\"#000000\" d=\"M2090.9737,-192.9465C2096.0293,-184.3271 2101.5247,-174.9579 2106.8017,-165.9611\"/>\n<polygon fill=\"#000000\" stroke=\"#000000\" points=\"2109.9411,-167.5265 2111.9814,-157.13 2103.9031,-163.985 2109.9411,-167.5265\"/>\n</g>\n<!-- 39 -->\n<g id=\"node40\" class=\"node\">\n<title>39</title>\n<polygon fill=\"#fae5d6\" stroke=\"#000000\" points=\"1942,-53 1838,-53 1838,0 1942,0 1942,-53\"/>\n<text text-anchor=\"middle\" x=\"1890\" y=\"-37.8\" font-family=\"Times,serif\" font-size=\"14.00\" fill=\"#000000\">mse = 4.351</text>\n<text text-anchor=\"middle\" x=\"1890\" y=\"-22.8\" font-family=\"Times,serif\" font-size=\"14.00\" fill=\"#000000\">samples = 6</text>\n<text text-anchor=\"middle\" x=\"1890\" y=\"-7.8\" font-family=\"Times,serif\" font-size=\"14.00\" fill=\"#000000\">value = 17.317</text>\n</g>\n<!-- 38&#45;&gt;39 -->\n<g id=\"edge39\" class=\"edge\">\n<title>38&#45;&gt;39</title>\n<path fill=\"none\" stroke=\"#000000\" d=\"M1967.6925,-88.9777C1955.8501,-79.4545 1942.9979,-69.1191 1931.2195,-59.6473\"/>\n<polygon fill=\"#000000\" stroke=\"#000000\" points=\"1933.2486,-56.7877 1923.2624,-53.2485 1928.8618,-62.2427 1933.2486,-56.7877\"/>\n</g>\n<!-- 40 -->\n<g id=\"node41\" class=\"node\">\n<title>40</title>\n<polygon fill=\"#f8dcc9\" stroke=\"#000000\" points=\"2064,-53 1960,-53 1960,0 2064,0 2064,-53\"/>\n<text text-anchor=\"middle\" x=\"2012\" y=\"-37.8\" font-family=\"Times,serif\" font-size=\"14.00\" fill=\"#000000\">mse = 7.216</text>\n<text text-anchor=\"middle\" x=\"2012\" y=\"-22.8\" font-family=\"Times,serif\" font-size=\"14.00\" fill=\"#000000\">samples = 19</text>\n<text text-anchor=\"middle\" x=\"2012\" y=\"-7.8\" font-family=\"Times,serif\" font-size=\"14.00\" fill=\"#000000\">value = 20.184</text>\n</g>\n<!-- 38&#45;&gt;40 -->\n<g id=\"edge40\" class=\"edge\">\n<title>38&#45;&gt;40</title>\n<path fill=\"none\" stroke=\"#000000\" d=\"M2010.7051,-88.9777C2010.8759,-80.7364 2011.0593,-71.887 2011.2328,-63.5153\"/>\n<polygon fill=\"#000000\" stroke=\"#000000\" points=\"2014.7376,-63.3189 2011.4456,-53.2485 2007.7391,-63.1738 2014.7376,-63.3189\"/>\n</g>\n<!-- 42 -->\n<g id=\"node43\" class=\"node\">\n<title>42</title>\n<polygon fill=\"#fbece1\" stroke=\"#000000\" points=\"2179.5,-53 2082.5,-53 2082.5,0 2179.5,0 2179.5,-53\"/>\n<text text-anchor=\"middle\" x=\"2131\" y=\"-37.8\" font-family=\"Times,serif\" font-size=\"14.00\" fill=\"#000000\">mse = 5.157</text>\n<text text-anchor=\"middle\" x=\"2131\" y=\"-22.8\" font-family=\"Times,serif\" font-size=\"14.00\" fill=\"#000000\">samples = 20</text>\n<text text-anchor=\"middle\" x=\"2131\" y=\"-7.8\" font-family=\"Times,serif\" font-size=\"14.00\" fill=\"#000000\">value = 15.19</text>\n</g>\n<!-- 41&#45;&gt;42 -->\n<g id=\"edge42\" class=\"edge\">\n<title>41&#45;&gt;42</title>\n<path fill=\"none\" stroke=\"#000000\" d=\"M2131.6474,-88.9777C2131.562,-80.7364 2131.4703,-71.887 2131.3836,-63.5153\"/>\n<polygon fill=\"#000000\" stroke=\"#000000\" points=\"2134.8807,-63.2116 2131.2772,-53.2485 2127.8811,-63.2842 2134.8807,-63.2116\"/>\n</g>\n<!-- 43 -->\n<g id=\"node44\" class=\"node\">\n<title>43</title>\n<polygon fill=\"#f3c6a5\" stroke=\"#000000\" points=\"2286.5,-53 2197.5,-53 2197.5,0 2286.5,0 2286.5,-53\"/>\n<text text-anchor=\"middle\" x=\"2242\" y=\"-37.8\" font-family=\"Times,serif\" font-size=\"14.00\" fill=\"#000000\">mse = &#45;0.0</text>\n<text text-anchor=\"middle\" x=\"2242\" y=\"-22.8\" font-family=\"Times,serif\" font-size=\"14.00\" fill=\"#000000\">samples = 1</text>\n<text text-anchor=\"middle\" x=\"2242\" y=\"-7.8\" font-family=\"Times,serif\" font-size=\"14.00\" fill=\"#000000\">value = 27.5</text>\n</g>\n<!-- 41&#45;&gt;43 -->\n<g id=\"edge43\" class=\"edge\">\n<title>41&#45;&gt;43</title>\n<path fill=\"none\" stroke=\"#000000\" d=\"M2170.7819,-88.9777C2181.533,-79.546 2193.1922,-69.3178 2203.9038,-59.9208\"/>\n<polygon fill=\"#000000\" stroke=\"#000000\" points=\"2206.3004,-62.4743 2211.5095,-53.2485 2201.684,-57.2122 2206.3004,-62.4743\"/>\n</g>\n<!-- 45 -->\n<g id=\"node46\" class=\"node\">\n<title>45</title>\n<polygon fill=\"#fceee5\" stroke=\"#000000\" points=\"2473,-157 2355,-157 2355,-89 2473,-89 2473,-157\"/>\n<text text-anchor=\"middle\" x=\"2414\" y=\"-141.8\" font-family=\"Times,serif\" font-size=\"14.00\" fill=\"#000000\">LSTAT &lt;= 18.93</text>\n<text text-anchor=\"middle\" x=\"2414\" y=\"-126.8\" font-family=\"Times,serif\" font-size=\"14.00\" fill=\"#000000\">mse = 7.999</text>\n<text text-anchor=\"middle\" x=\"2414\" y=\"-111.8\" font-family=\"Times,serif\" font-size=\"14.00\" fill=\"#000000\">samples = 51</text>\n<text text-anchor=\"middle\" x=\"2414\" y=\"-96.8\" font-family=\"Times,serif\" font-size=\"14.00\" fill=\"#000000\">value = 14.318</text>\n</g>\n<!-- 44&#45;&gt;45 -->\n<g id=\"edge45\" class=\"edge\">\n<title>44&#45;&gt;45</title>\n<path fill=\"none\" stroke=\"#000000\" d=\"M2414,-192.9465C2414,-184.776 2414,-175.9318 2414,-167.3697\"/>\n<polygon fill=\"#000000\" stroke=\"#000000\" points=\"2417.5001,-167.13 2414,-157.13 2410.5001,-167.13 2417.5001,-167.13\"/>\n</g>\n<!-- 48 -->\n<g id=\"node49\" class=\"node\">\n<title>48</title>\n<polygon fill=\"#fefcfb\" stroke=\"#000000\" points=\"2654,-157 2548,-157 2548,-89 2654,-89 2654,-157\"/>\n<text text-anchor=\"middle\" x=\"2601\" y=\"-141.8\" font-family=\"Times,serif\" font-size=\"14.00\" fill=\"#000000\">NOX &lt;= 0.675</text>\n<text text-anchor=\"middle\" x=\"2601\" y=\"-126.8\" font-family=\"Times,serif\" font-size=\"14.00\" fill=\"#000000\">mse = 5.631</text>\n<text text-anchor=\"middle\" x=\"2601\" y=\"-111.8\" font-family=\"Times,serif\" font-size=\"14.00\" fill=\"#000000\">samples = 35</text>\n<text text-anchor=\"middle\" x=\"2601\" y=\"-96.8\" font-family=\"Times,serif\" font-size=\"14.00\" fill=\"#000000\">value = 9.751</text>\n</g>\n<!-- 44&#45;&gt;48 -->\n<g id=\"edge48\" class=\"edge\">\n<title>44&#45;&gt;48</title>\n<path fill=\"none\" stroke=\"#000000\" d=\"M2473.6821,-193.8078C2494.5387,-182.2084 2517.9899,-169.166 2539.0288,-157.4652\"/>\n<polygon fill=\"#000000\" stroke=\"#000000\" points=\"2540.845,-160.4601 2547.8833,-152.5409 2537.4427,-154.3425 2540.845,-160.4601\"/>\n</g>\n<!-- 46 -->\n<g id=\"node47\" class=\"node\">\n<title>46</title>\n<polygon fill=\"#fbeade\" stroke=\"#000000\" points=\"2409,-53 2305,-53 2305,0 2409,0 2409,-53\"/>\n<text text-anchor=\"middle\" x=\"2357\" y=\"-37.8\" font-family=\"Times,serif\" font-size=\"14.00\" fill=\"#000000\">mse = 4.79</text>\n<text text-anchor=\"middle\" x=\"2357\" y=\"-22.8\" font-family=\"Times,serif\" font-size=\"14.00\" fill=\"#000000\">samples = 28</text>\n<text text-anchor=\"middle\" x=\"2357\" y=\"-7.8\" font-family=\"Times,serif\" font-size=\"14.00\" fill=\"#000000\">value = 15.696</text>\n</g>\n<!-- 45&#45;&gt;46 -->\n<g id=\"edge46\" class=\"edge\">\n<title>45&#45;&gt;46</title>\n<path fill=\"none\" stroke=\"#000000\" d=\"M2393.9039,-88.9777C2388.7656,-80.2786 2383.227,-70.9018 2378.0425,-62.1247\"/>\n<polygon fill=\"#000000\" stroke=\"#000000\" points=\"2380.899,-60.0786 2372.7996,-53.2485 2374.8719,-63.6387 2380.899,-60.0786\"/>\n</g>\n<!-- 47 -->\n<g id=\"node48\" class=\"node\">\n<title>47</title>\n<polygon fill=\"#fdf4ed\" stroke=\"#000000\" points=\"2531,-53 2427,-53 2427,0 2531,0 2531,-53\"/>\n<text text-anchor=\"middle\" x=\"2479\" y=\"-37.8\" font-family=\"Times,serif\" font-size=\"14.00\" fill=\"#000000\">mse = 6.775</text>\n<text text-anchor=\"middle\" x=\"2479\" y=\"-22.8\" font-family=\"Times,serif\" font-size=\"14.00\" fill=\"#000000\">samples = 23</text>\n<text text-anchor=\"middle\" x=\"2479\" y=\"-7.8\" font-family=\"Times,serif\" font-size=\"14.00\" fill=\"#000000\">value = 12.639</text>\n</g>\n<!-- 45&#45;&gt;47 -->\n<g id=\"edge47\" class=\"edge\">\n<title>45&#45;&gt;47</title>\n<path fill=\"none\" stroke=\"#000000\" d=\"M2436.9166,-88.9777C2442.8994,-80.0954 2449.3582,-70.5067 2455.377,-61.5711\"/>\n<polygon fill=\"#000000\" stroke=\"#000000\" points=\"2458.2991,-63.4978 2460.9829,-53.2485 2452.4933,-59.5871 2458.2991,-63.4978\"/>\n</g>\n<!-- 49 -->\n<g id=\"node50\" class=\"node\">\n<title>49</title>\n<polygon fill=\"#fdf5ef\" stroke=\"#000000\" points=\"2653,-53 2549,-53 2549,0 2653,0 2653,-53\"/>\n<text text-anchor=\"middle\" x=\"2601\" y=\"-37.8\" font-family=\"Times,serif\" font-size=\"14.00\" fill=\"#000000\">mse = 1.986</text>\n<text text-anchor=\"middle\" x=\"2601\" y=\"-22.8\" font-family=\"Times,serif\" font-size=\"14.00\" fill=\"#000000\">samples = 9</text>\n<text text-anchor=\"middle\" x=\"2601\" y=\"-7.8\" font-family=\"Times,serif\" font-size=\"14.00\" fill=\"#000000\">value = 12.222</text>\n</g>\n<!-- 48&#45;&gt;49 -->\n<g id=\"edge49\" class=\"edge\">\n<title>48&#45;&gt;49</title>\n<path fill=\"none\" stroke=\"#000000\" d=\"M2601,-88.9777C2601,-80.7364 2601,-71.887 2601,-63.5153\"/>\n<polygon fill=\"#000000\" stroke=\"#000000\" points=\"2604.5001,-63.2484 2601,-53.2485 2597.5001,-63.2485 2604.5001,-63.2484\"/>\n</g>\n<!-- 50 -->\n<g id=\"node51\" class=\"node\">\n<title>50</title>\n<polygon fill=\"#ffffff\" stroke=\"#000000\" points=\"2768.5,-53 2671.5,-53 2671.5,0 2768.5,0 2768.5,-53\"/>\n<text text-anchor=\"middle\" x=\"2720\" y=\"-37.8\" font-family=\"Times,serif\" font-size=\"14.00\" fill=\"#000000\">mse = 4.048</text>\n<text text-anchor=\"middle\" x=\"2720\" y=\"-22.8\" font-family=\"Times,serif\" font-size=\"14.00\" fill=\"#000000\">samples = 26</text>\n<text text-anchor=\"middle\" x=\"2720\" y=\"-7.8\" font-family=\"Times,serif\" font-size=\"14.00\" fill=\"#000000\">value = 8.896</text>\n</g>\n<!-- 48&#45;&gt;50 -->\n<g id=\"edge50\" class=\"edge\">\n<title>48&#45;&gt;50</title>\n<path fill=\"none\" stroke=\"#000000\" d=\"M2642.9549,-88.9777C2654.6986,-79.4545 2667.4438,-69.1191 2679.124,-59.6473\"/>\n<polygon fill=\"#000000\" stroke=\"#000000\" points=\"2681.4522,-62.2656 2687.0148,-53.2485 2677.0432,-56.8286 2681.4522,-62.2656\"/>\n</g>\n</g>\n</svg>\n"
          },
          "metadata": {
            "tags": []
          },
          "execution_count": 143
        }
      ]
    },
    {
      "cell_type": "code",
      "metadata": {
        "id": "LItnLpwlVAbc",
        "colab_type": "code",
        "colab": {
          "base_uri": "https://localhost:8080/",
          "height": 34
        },
        "outputId": "bd3551f7-84ef-4685-a1e9-dec94a235d96"
      },
      "source": [
        "from sklearn.metrics import r2_score\n",
        "pre = clf.predict(x_test)\n",
        "r2_score(y_test, pre)\n"
      ],
      "execution_count": 144,
      "outputs": [
        {
          "output_type": "execute_result",
          "data": {
            "text/plain": [
              "0.8248151039775155"
            ]
          },
          "metadata": {
            "tags": []
          },
          "execution_count": 144
        }
      ]
    },
    {
      "cell_type": "code",
      "metadata": {
        "id": "0QyUgv09bxDy",
        "colab_type": "code",
        "colab": {}
      },
      "source": [
        ""
      ],
      "execution_count": 144,
      "outputs": []
    }
  ]
}