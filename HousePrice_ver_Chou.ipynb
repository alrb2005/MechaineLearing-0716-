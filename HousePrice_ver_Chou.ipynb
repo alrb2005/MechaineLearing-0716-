{
  "nbformat": 4,
  "nbformat_minor": 0,
  "metadata": {
    "colab": {
      "name": "HousePrice_ver.Chou.ipynb",
      "provenance": [],
      "authorship_tag": "ABX9TyOVAXeEpzZNofdDF30BRQoo",
      "include_colab_link": true
    },
    "kernelspec": {
      "name": "python3",
      "display_name": "Python 3"
    }
  },
  "cells": [
    {
      "cell_type": "markdown",
      "metadata": {
        "id": "view-in-github",
        "colab_type": "text"
      },
      "source": [
        "<a href=\"https://colab.research.google.com/github/alrb2005/MechaineLearing-0716-/blob/master/HousePrice_ver_Chou.ipynb\" target=\"_parent\"><img src=\"https://colab.research.google.com/assets/colab-badge.svg\" alt=\"Open In Colab\"/></a>"
      ]
    },
    {
      "cell_type": "code",
      "metadata": {
        "id": "IXr08vjqLSZg",
        "colab_type": "code",
        "colab": {}
      },
      "source": [
        "\n",
        "import pandas as pd\n",
        "train_df = pd.read_csv(\"house/train.csv\", encoding=\"utf-8\")\n",
        "test_df = pd.read_csv(\"house/test.csv\", encoding=\"utf-8\")\n",
        "test_df"
      ],
      "execution_count": null,
      "outputs": []
    },
    {
      "cell_type": "code",
      "metadata": {
        "id": "_lWO4qWbLVkx",
        "colab_type": "code",
        "colab": {}
      },
      "source": [
        "train_df_drop = train_df.drop([\"SalePrice\"], axis=1)\n",
        "datas = pd.concat([train_df_drop, test_df], axis=0)\n",
        "datas = datas.drop([\"Id\"], axis=1)\n",
        "datas"
      ],
      "execution_count": null,
      "outputs": []
    },
    {
      "cell_type": "code",
      "metadata": {
        "id": "h98b8BPzLXvR",
        "colab_type": "code",
        "colab": {}
      },
      "source": [
        "na = datas.isna().sum()\n",
        "na[na != 0].sort_values(ascending=False)"
      ],
      "execution_count": null,
      "outputs": []
    },
    {
      "cell_type": "code",
      "metadata": {
        "id": "FNfJ3bJVLaxp",
        "colab_type": "code",
        "colab": {}
      },
      "source": [
        "datas = datas.drop(na[na > 1000].index, axis=1)\n",
        "datas"
      ],
      "execution_count": null,
      "outputs": []
    },
    {
      "cell_type": "code",
      "metadata": {
        "id": "9FX7OIX1LdDp",
        "colab_type": "code",
        "colab": {}
      },
      "source": [
        "# 填缺失值(數字)\n",
        "med = datas.median().drop([\"MSSubClass\"])\n",
        "datas = datas.fillna(med)"
      ],
      "execution_count": null,
      "outputs": []
    },
    {
      "cell_type": "code",
      "metadata": {
        "id": "x9QDfYjILgIp",
        "colab_type": "code",
        "colab": {}
      },
      "source": [
        "# One-Hot Encoding\n",
        "datas = pd.get_dummies(datas)\n",
        "datas = pd.get_dummies(datas, columns=[\"MSSubClass\"])\n",
        "datas"
      ],
      "execution_count": null,
      "outputs": []
    },
    {
      "cell_type": "code",
      "metadata": {
        "id": "80Bzj8mPL7cR",
        "colab_type": "code",
        "colab": {}
      },
      "source": [
        "# 取列: .iloc -> [第一筆資料, 第二筆資料...]\n",
        "x_train = datas.iloc[:train_df.shape[0]]\n",
        "y_train = train_df[\"SalePrice\"]\n",
        "x_predict = datas.iloc[train_df.shape[0]:]\n",
        "predict_id = test_df[\"Id\"]"
      ],
      "execution_count": null,
      "outputs": []
    },
    {
      "cell_type": "code",
      "metadata": {
        "id": "bIe1ZOqLMAYZ",
        "colab_type": "code",
        "colab": {}
      },
      "source": [
        "# TODO: GridSearch自己做\n",
        "from sklearn.ensemble import RandomForestRegressor\n",
        "reg = RandomForestRegressor(n_estimators=75, max_depth=8)\n",
        "reg.fit(x_train, y_train)\n",
        "pre = reg.predict(x_predict)\n",
        "result = pd.DataFrame({\n",
        "    \"Id\":predict_id,\n",
        "    \"SalePrice\":pre\n",
        "})\n",
        "result.to_csv(\"house_price_rf.csv\", encoding=\"utf-8\", index=False)\n",
        "result"
      ],
      "execution_count": null,
      "outputs": []
    }
  ]
}